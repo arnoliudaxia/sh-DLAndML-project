{
 "cells": [
  {
   "cell_type": "code",
   "execution_count": 1,
   "metadata": {},
   "outputs": [
    {
     "name": "stdout",
     "output_type": "stream",
     "text": [
      "/home/arno/Projects/EEGDecodingTest/My\n"
     ]
    },
    {
     "name": "stderr",
     "output_type": "stream",
     "text": [
      "/home/arno/conda/envs/MNE-EEG/lib/python3.11/site-packages/IPython/core/magics/osm.py:417: UserWarning: This is now an optional IPython functionality, setting dhist requires you to install the `pickleshare` library.\n",
      "  self.shell.db['dhist'] = compress_dhist(dhist)[-100:]\n"
     ]
    }
   ],
   "source": [
    "%pwd\n",
    "%cd /home/arno/Projects/EEGDecodingTest/My"
   ]
  },
  {
   "cell_type": "code",
   "execution_count": 2,
   "metadata": {},
   "outputs": [
    {
     "name": "stdout",
     "output_type": "stream",
     "text": [
      "预测样本数量：22324\n"
     ]
    }
   ],
   "source": [
    "#region 已经训练过一个模型从EEG latent预测embedding，读取所有的（character，训练embed）\n",
    "import os\n",
    "import pickle\n",
    "\n",
    "\n",
    "root_dir = 'Data/qwen-characterSplit'\n",
    "sub=[8] # ! Mask\n",
    "\n",
    "characters=[]\n",
    "for sub_dir in os.listdir(root_dir):\n",
    "    if all(item not in sub_dir for item in map(str, sub)):\n",
    "        continue\n",
    "    else:\n",
    "    # if \"08\" in sub_dir:\n",
    "    # if \"04\" in sub_dir or \"05\" in sub_dir or \"08\" in sub_dir or True:\n",
    "        sub_dir_path = os.path.join(root_dir, sub_dir)\n",
    "        if os.path.isdir(sub_dir_path):\n",
    "            for file_name in os.listdir(sub_dir_path):\n",
    "                if file_name.endswith('.pkl') and 'latent' in file_name and '_tokenid'  in file_name and'_tokenEmbedding' in file_name:\n",
    "                    file_path = os.path.join(sub_dir_path, file_name)\n",
    "                    with open(file_path, 'rb') as file:\n",
    "                        loaded_data = pickle.load(file)\n",
    "                    # 如果loaded_data里面每一个元素没有下面那么多成分，以每个的shape为准，shape总是对的。比如没有一个3584长度的东西说明embedding没在里面\n",
    "                    for  eeg, character, latent, tokenid, embed in loaded_data:\n",
    "                        # eeg.shape (1, 128, 256) 多通道EEG信号\n",
    "                        # character -> str 一个中文汉字\n",
    "                        # latent.shape (1, 64) EEG压缩后的向量\n",
    "                        # tokenid array([24]) 汉字对应的token\n",
    "                        # embed.shape (3584,)  词嵌入向量\n",
    "                        characters.append([character,embed])\n",
    "                       \n",
    "print(f\"预测样本数量：{len(characters)}\")\n",
    "#endregion"
   ]
  },
  {
   "cell_type": "code",
   "execution_count": 5,
   "metadata": {},
   "outputs": [],
   "source": [
    "allCharacter=([ch[0] for ch in characters])"
   ]
  },
  {
   "cell_type": "code",
   "execution_count": 4,
   "metadata": {},
   "outputs": [],
   "source": [
    "import numpy as np\n",
    "import ollama\n",
    "\n",
    "\n",
    "class Ollama:\n",
    "\n",
    "    def getEmbed(text):\n",
    "        e=ollama.embeddings(model='bge-m3', prompt=text).embedding\n",
    "        e=np.array(e)\n",
    "        return e\n",
    "        "
   ]
  },
  {
   "cell_type": "code",
   "execution_count": 62,
   "metadata": {},
   "outputs": [
    {
     "name": "stderr",
     "output_type": "stream",
     "text": [
      "Processing embeddings:   0%|          | 22/22324 [00:03<41:22,  8.98it/s] "
     ]
    },
    {
     "ename": "KeyboardInterrupt",
     "evalue": "",
     "output_type": "error",
     "traceback": [
      "\u001b[0;31m---------------------------------------------------------------------------\u001b[0m",
      "\u001b[0;31mKeyboardInterrupt\u001b[0m                         Traceback (most recent call last)",
      "Cell \u001b[0;32mIn[62], line 11\u001b[0m\n\u001b[1;32m      7\u001b[0m unique_indices \u001b[38;5;241m=\u001b[39m [allCharacter\u001b[38;5;241m.\u001b[39mindex(ch) \u001b[38;5;28;01mfor\u001b[39;00m ch \u001b[38;5;129;01min\u001b[39;00m unique_characters]\n\u001b[1;32m      9\u001b[0m \u001b[38;5;66;03m# 使用原始的allCharacterEmbedding根据去重后的索引映射\u001b[39;00m\n\u001b[1;32m     10\u001b[0m \u001b[38;5;66;03m# allCharacterEmbedding_unique = [allCharacterEmbedding[i] for i in tqdm(unique_indices, desc=\"Mapping embeddings\")]\u001b[39;00m\n\u001b[0;32m---> 11\u001b[0m allCharacterEmbedding \u001b[38;5;241m=\u001b[39m \u001b[43m[\u001b[49m\u001b[43mOllama\u001b[49m\u001b[38;5;241;43m.\u001b[39;49m\u001b[43mgetEmbed\u001b[49m\u001b[43m(\u001b[49m\u001b[43mch\u001b[49m\u001b[43m)\u001b[49m\u001b[43m \u001b[49m\u001b[38;5;28;43;01mfor\u001b[39;49;00m\u001b[43m \u001b[49m\u001b[43mch\u001b[49m\u001b[43m \u001b[49m\u001b[38;5;129;43;01min\u001b[39;49;00m\u001b[43m \u001b[49m\u001b[43mtqdm\u001b[49m\u001b[43m(\u001b[49m\u001b[43mallCharacter\u001b[49m\u001b[43m,\u001b[49m\u001b[43m \u001b[49m\u001b[43mdesc\u001b[49m\u001b[38;5;241;43m=\u001b[39;49m\u001b[38;5;124;43m\"\u001b[39;49m\u001b[38;5;124;43mProcessing embeddings\u001b[39;49m\u001b[38;5;124;43m\"\u001b[39;49m\u001b[43m)\u001b[49m\u001b[43m]\u001b[49m\n",
      "Cell \u001b[0;32mIn[62], line 11\u001b[0m, in \u001b[0;36m<listcomp>\u001b[0;34m(.0)\u001b[0m\n\u001b[1;32m      7\u001b[0m unique_indices \u001b[38;5;241m=\u001b[39m [allCharacter\u001b[38;5;241m.\u001b[39mindex(ch) \u001b[38;5;28;01mfor\u001b[39;00m ch \u001b[38;5;129;01min\u001b[39;00m unique_characters]\n\u001b[1;32m      9\u001b[0m \u001b[38;5;66;03m# 使用原始的allCharacterEmbedding根据去重后的索引映射\u001b[39;00m\n\u001b[1;32m     10\u001b[0m \u001b[38;5;66;03m# allCharacterEmbedding_unique = [allCharacterEmbedding[i] for i in tqdm(unique_indices, desc=\"Mapping embeddings\")]\u001b[39;00m\n\u001b[0;32m---> 11\u001b[0m allCharacterEmbedding \u001b[38;5;241m=\u001b[39m [\u001b[43mOllama\u001b[49m\u001b[38;5;241;43m.\u001b[39;49m\u001b[43mgetEmbed\u001b[49m\u001b[43m(\u001b[49m\u001b[43mch\u001b[49m\u001b[43m)\u001b[49m \u001b[38;5;28;01mfor\u001b[39;00m ch \u001b[38;5;129;01min\u001b[39;00m tqdm(allCharacter, desc\u001b[38;5;241m=\u001b[39m\u001b[38;5;124m\"\u001b[39m\u001b[38;5;124mProcessing embeddings\u001b[39m\u001b[38;5;124m\"\u001b[39m)]\n",
      "Cell \u001b[0;32mIn[4], line 8\u001b[0m, in \u001b[0;36mOllama.getEmbed\u001b[0;34m(text)\u001b[0m\n\u001b[1;32m      7\u001b[0m \u001b[38;5;28;01mdef\u001b[39;00m \u001b[38;5;21mgetEmbed\u001b[39m(text):\n\u001b[0;32m----> 8\u001b[0m     e\u001b[38;5;241m=\u001b[39m\u001b[43mollama\u001b[49m\u001b[38;5;241;43m.\u001b[39;49m\u001b[43membeddings\u001b[49m\u001b[43m(\u001b[49m\u001b[43mmodel\u001b[49m\u001b[38;5;241;43m=\u001b[39;49m\u001b[38;5;124;43m'\u001b[39;49m\u001b[38;5;124;43mbge-m3\u001b[39;49m\u001b[38;5;124;43m'\u001b[39;49m\u001b[43m,\u001b[49m\u001b[43m \u001b[49m\u001b[43mprompt\u001b[49m\u001b[38;5;241;43m=\u001b[39;49m\u001b[43mtext\u001b[49m\u001b[43m)\u001b[49m\u001b[38;5;241m.\u001b[39membedding\n\u001b[1;32m      9\u001b[0m     e\u001b[38;5;241m=\u001b[39mnp\u001b[38;5;241m.\u001b[39marray(e)\n\u001b[1;32m     10\u001b[0m     \u001b[38;5;28;01mreturn\u001b[39;00m e\n",
      "File \u001b[0;32m~/conda/envs/MNE-EEG/lib/python3.11/site-packages/ollama/_client.py:379\u001b[0m, in \u001b[0;36mClient.embeddings\u001b[0;34m(self, model, prompt, options, keep_alive)\u001b[0m\n\u001b[1;32m    369\u001b[0m \u001b[38;5;28;01mdef\u001b[39;00m \u001b[38;5;21membeddings\u001b[39m(\n\u001b[1;32m    370\u001b[0m   \u001b[38;5;28mself\u001b[39m,\n\u001b[1;32m    371\u001b[0m   model: \u001b[38;5;28mstr\u001b[39m \u001b[38;5;241m=\u001b[39m \u001b[38;5;124m'\u001b[39m\u001b[38;5;124m'\u001b[39m,\n\u001b[0;32m   (...)\u001b[0m\n\u001b[1;32m    374\u001b[0m   keep_alive: Optional[Union[\u001b[38;5;28mfloat\u001b[39m, \u001b[38;5;28mstr\u001b[39m]] \u001b[38;5;241m=\u001b[39m \u001b[38;5;28;01mNone\u001b[39;00m,\n\u001b[1;32m    375\u001b[0m ) \u001b[38;5;241m-\u001b[39m\u001b[38;5;241m>\u001b[39m EmbeddingsResponse:\n\u001b[1;32m    376\u001b[0m \u001b[38;5;250m  \u001b[39m\u001b[38;5;124;03m\"\"\"\u001b[39;00m\n\u001b[1;32m    377\u001b[0m \u001b[38;5;124;03m  Deprecated in favor of `embed`.\u001b[39;00m\n\u001b[1;32m    378\u001b[0m \u001b[38;5;124;03m  \"\"\"\u001b[39;00m\n\u001b[0;32m--> 379\u001b[0m   \u001b[38;5;28;01mreturn\u001b[39;00m \u001b[38;5;28;43mself\u001b[39;49m\u001b[38;5;241;43m.\u001b[39;49m\u001b[43m_request\u001b[49m\u001b[43m(\u001b[49m\n\u001b[1;32m    380\u001b[0m \u001b[43m    \u001b[49m\u001b[43mEmbeddingsResponse\u001b[49m\u001b[43m,\u001b[49m\n\u001b[1;32m    381\u001b[0m \u001b[43m    \u001b[49m\u001b[38;5;124;43m'\u001b[39;49m\u001b[38;5;124;43mPOST\u001b[39;49m\u001b[38;5;124;43m'\u001b[39;49m\u001b[43m,\u001b[49m\n\u001b[1;32m    382\u001b[0m \u001b[43m    \u001b[49m\u001b[38;5;124;43m'\u001b[39;49m\u001b[38;5;124;43m/api/embeddings\u001b[39;49m\u001b[38;5;124;43m'\u001b[39;49m\u001b[43m,\u001b[49m\n\u001b[1;32m    383\u001b[0m \u001b[43m    \u001b[49m\u001b[43mjson\u001b[49m\u001b[38;5;241;43m=\u001b[39;49m\u001b[43mEmbeddingsRequest\u001b[49m\u001b[43m(\u001b[49m\n\u001b[1;32m    384\u001b[0m \u001b[43m      \u001b[49m\u001b[43mmodel\u001b[49m\u001b[38;5;241;43m=\u001b[39;49m\u001b[43mmodel\u001b[49m\u001b[43m,\u001b[49m\n\u001b[1;32m    385\u001b[0m \u001b[43m      \u001b[49m\u001b[43mprompt\u001b[49m\u001b[38;5;241;43m=\u001b[39;49m\u001b[43mprompt\u001b[49m\u001b[43m,\u001b[49m\n\u001b[1;32m    386\u001b[0m \u001b[43m      \u001b[49m\u001b[43moptions\u001b[49m\u001b[38;5;241;43m=\u001b[39;49m\u001b[43moptions\u001b[49m\u001b[43m,\u001b[49m\n\u001b[1;32m    387\u001b[0m \u001b[43m      \u001b[49m\u001b[43mkeep_alive\u001b[49m\u001b[38;5;241;43m=\u001b[39;49m\u001b[43mkeep_alive\u001b[49m\u001b[43m,\u001b[49m\n\u001b[1;32m    388\u001b[0m \u001b[43m    \u001b[49m\u001b[43m)\u001b[49m\u001b[38;5;241;43m.\u001b[39;49m\u001b[43mmodel_dump\u001b[49m\u001b[43m(\u001b[49m\u001b[43mexclude_none\u001b[49m\u001b[38;5;241;43m=\u001b[39;49m\u001b[38;5;28;43;01mTrue\u001b[39;49;00m\u001b[43m)\u001b[49m\u001b[43m,\u001b[49m\n\u001b[1;32m    389\u001b[0m \u001b[43m  \u001b[49m\u001b[43m)\u001b[49m\n",
      "File \u001b[0;32m~/conda/envs/MNE-EEG/lib/python3.11/site-packages/ollama/_client.py:177\u001b[0m, in \u001b[0;36mClient._request\u001b[0;34m(self, cls, stream, *args, **kwargs)\u001b[0m\n\u001b[1;32m    173\u001b[0m         \u001b[38;5;28;01myield\u001b[39;00m \u001b[38;5;28mcls\u001b[39m(\u001b[38;5;241m*\u001b[39m\u001b[38;5;241m*\u001b[39mpart)\n\u001b[1;32m    175\u001b[0m   \u001b[38;5;28;01mreturn\u001b[39;00m inner()\n\u001b[0;32m--> 177\u001b[0m \u001b[38;5;28;01mreturn\u001b[39;00m \u001b[38;5;28mcls\u001b[39m(\u001b[38;5;241m*\u001b[39m\u001b[38;5;241m*\u001b[39m\u001b[38;5;28;43mself\u001b[39;49m\u001b[38;5;241;43m.\u001b[39;49m\u001b[43m_request_raw\u001b[49m\u001b[43m(\u001b[49m\u001b[38;5;241;43m*\u001b[39;49m\u001b[43margs\u001b[49m\u001b[43m,\u001b[49m\u001b[43m \u001b[49m\u001b[38;5;241;43m*\u001b[39;49m\u001b[38;5;241;43m*\u001b[39;49m\u001b[43mkwargs\u001b[49m\u001b[43m)\u001b[49m\u001b[38;5;241m.\u001b[39mjson())\n",
      "File \u001b[0;32m~/conda/envs/MNE-EEG/lib/python3.11/site-packages/ollama/_client.py:118\u001b[0m, in \u001b[0;36mClient._request_raw\u001b[0;34m(self, *args, **kwargs)\u001b[0m\n\u001b[1;32m    117\u001b[0m \u001b[38;5;28;01mdef\u001b[39;00m \u001b[38;5;21m_request_raw\u001b[39m(\u001b[38;5;28mself\u001b[39m, \u001b[38;5;241m*\u001b[39margs, \u001b[38;5;241m*\u001b[39m\u001b[38;5;241m*\u001b[39mkwargs):\n\u001b[0;32m--> 118\u001b[0m   r \u001b[38;5;241m=\u001b[39m \u001b[38;5;28;43mself\u001b[39;49m\u001b[38;5;241;43m.\u001b[39;49m\u001b[43m_client\u001b[49m\u001b[38;5;241;43m.\u001b[39;49m\u001b[43mrequest\u001b[49m\u001b[43m(\u001b[49m\u001b[38;5;241;43m*\u001b[39;49m\u001b[43margs\u001b[49m\u001b[43m,\u001b[49m\u001b[43m \u001b[49m\u001b[38;5;241;43m*\u001b[39;49m\u001b[38;5;241;43m*\u001b[39;49m\u001b[43mkwargs\u001b[49m\u001b[43m)\u001b[49m\n\u001b[1;32m    119\u001b[0m   \u001b[38;5;28;01mtry\u001b[39;00m:\n\u001b[1;32m    120\u001b[0m     r\u001b[38;5;241m.\u001b[39mraise_for_status()\n",
      "File \u001b[0;32m~/conda/envs/MNE-EEG/lib/python3.11/site-packages/httpx/_client.py:837\u001b[0m, in \u001b[0;36mClient.request\u001b[0;34m(self, method, url, content, data, files, json, params, headers, cookies, auth, follow_redirects, timeout, extensions)\u001b[0m\n\u001b[1;32m    822\u001b[0m     warnings\u001b[38;5;241m.\u001b[39mwarn(message, \u001b[38;5;167;01mDeprecationWarning\u001b[39;00m)\n\u001b[1;32m    824\u001b[0m request \u001b[38;5;241m=\u001b[39m \u001b[38;5;28mself\u001b[39m\u001b[38;5;241m.\u001b[39mbuild_request(\n\u001b[1;32m    825\u001b[0m     method\u001b[38;5;241m=\u001b[39mmethod,\n\u001b[1;32m    826\u001b[0m     url\u001b[38;5;241m=\u001b[39murl,\n\u001b[0;32m   (...)\u001b[0m\n\u001b[1;32m    835\u001b[0m     extensions\u001b[38;5;241m=\u001b[39mextensions,\n\u001b[1;32m    836\u001b[0m )\n\u001b[0;32m--> 837\u001b[0m \u001b[38;5;28;01mreturn\u001b[39;00m \u001b[38;5;28;43mself\u001b[39;49m\u001b[38;5;241;43m.\u001b[39;49m\u001b[43msend\u001b[49m\u001b[43m(\u001b[49m\u001b[43mrequest\u001b[49m\u001b[43m,\u001b[49m\u001b[43m \u001b[49m\u001b[43mauth\u001b[49m\u001b[38;5;241;43m=\u001b[39;49m\u001b[43mauth\u001b[49m\u001b[43m,\u001b[49m\u001b[43m \u001b[49m\u001b[43mfollow_redirects\u001b[49m\u001b[38;5;241;43m=\u001b[39;49m\u001b[43mfollow_redirects\u001b[49m\u001b[43m)\u001b[49m\n",
      "File \u001b[0;32m~/conda/envs/MNE-EEG/lib/python3.11/site-packages/httpx/_client.py:926\u001b[0m, in \u001b[0;36mClient.send\u001b[0;34m(self, request, stream, auth, follow_redirects)\u001b[0m\n\u001b[1;32m    922\u001b[0m \u001b[38;5;28mself\u001b[39m\u001b[38;5;241m.\u001b[39m_set_timeout(request)\n\u001b[1;32m    924\u001b[0m auth \u001b[38;5;241m=\u001b[39m \u001b[38;5;28mself\u001b[39m\u001b[38;5;241m.\u001b[39m_build_request_auth(request, auth)\n\u001b[0;32m--> 926\u001b[0m response \u001b[38;5;241m=\u001b[39m \u001b[38;5;28;43mself\u001b[39;49m\u001b[38;5;241;43m.\u001b[39;49m\u001b[43m_send_handling_auth\u001b[49m\u001b[43m(\u001b[49m\n\u001b[1;32m    927\u001b[0m \u001b[43m    \u001b[49m\u001b[43mrequest\u001b[49m\u001b[43m,\u001b[49m\n\u001b[1;32m    928\u001b[0m \u001b[43m    \u001b[49m\u001b[43mauth\u001b[49m\u001b[38;5;241;43m=\u001b[39;49m\u001b[43mauth\u001b[49m\u001b[43m,\u001b[49m\n\u001b[1;32m    929\u001b[0m \u001b[43m    \u001b[49m\u001b[43mfollow_redirects\u001b[49m\u001b[38;5;241;43m=\u001b[39;49m\u001b[43mfollow_redirects\u001b[49m\u001b[43m,\u001b[49m\n\u001b[1;32m    930\u001b[0m \u001b[43m    \u001b[49m\u001b[43mhistory\u001b[49m\u001b[38;5;241;43m=\u001b[39;49m\u001b[43m[\u001b[49m\u001b[43m]\u001b[49m\u001b[43m,\u001b[49m\n\u001b[1;32m    931\u001b[0m \u001b[43m\u001b[49m\u001b[43m)\u001b[49m\n\u001b[1;32m    932\u001b[0m \u001b[38;5;28;01mtry\u001b[39;00m:\n\u001b[1;32m    933\u001b[0m     \u001b[38;5;28;01mif\u001b[39;00m \u001b[38;5;129;01mnot\u001b[39;00m stream:\n",
      "File \u001b[0;32m~/conda/envs/MNE-EEG/lib/python3.11/site-packages/httpx/_client.py:954\u001b[0m, in \u001b[0;36mClient._send_handling_auth\u001b[0;34m(self, request, auth, follow_redirects, history)\u001b[0m\n\u001b[1;32m    951\u001b[0m request \u001b[38;5;241m=\u001b[39m \u001b[38;5;28mnext\u001b[39m(auth_flow)\n\u001b[1;32m    953\u001b[0m \u001b[38;5;28;01mwhile\u001b[39;00m \u001b[38;5;28;01mTrue\u001b[39;00m:\n\u001b[0;32m--> 954\u001b[0m     response \u001b[38;5;241m=\u001b[39m \u001b[38;5;28;43mself\u001b[39;49m\u001b[38;5;241;43m.\u001b[39;49m\u001b[43m_send_handling_redirects\u001b[49m\u001b[43m(\u001b[49m\n\u001b[1;32m    955\u001b[0m \u001b[43m        \u001b[49m\u001b[43mrequest\u001b[49m\u001b[43m,\u001b[49m\n\u001b[1;32m    956\u001b[0m \u001b[43m        \u001b[49m\u001b[43mfollow_redirects\u001b[49m\u001b[38;5;241;43m=\u001b[39;49m\u001b[43mfollow_redirects\u001b[49m\u001b[43m,\u001b[49m\n\u001b[1;32m    957\u001b[0m \u001b[43m        \u001b[49m\u001b[43mhistory\u001b[49m\u001b[38;5;241;43m=\u001b[39;49m\u001b[43mhistory\u001b[49m\u001b[43m,\u001b[49m\n\u001b[1;32m    958\u001b[0m \u001b[43m    \u001b[49m\u001b[43m)\u001b[49m\n\u001b[1;32m    959\u001b[0m     \u001b[38;5;28;01mtry\u001b[39;00m:\n\u001b[1;32m    960\u001b[0m         \u001b[38;5;28;01mtry\u001b[39;00m:\n",
      "File \u001b[0;32m~/conda/envs/MNE-EEG/lib/python3.11/site-packages/httpx/_client.py:991\u001b[0m, in \u001b[0;36mClient._send_handling_redirects\u001b[0;34m(self, request, follow_redirects, history)\u001b[0m\n\u001b[1;32m    988\u001b[0m \u001b[38;5;28;01mfor\u001b[39;00m hook \u001b[38;5;129;01min\u001b[39;00m \u001b[38;5;28mself\u001b[39m\u001b[38;5;241m.\u001b[39m_event_hooks[\u001b[38;5;124m\"\u001b[39m\u001b[38;5;124mrequest\u001b[39m\u001b[38;5;124m\"\u001b[39m]:\n\u001b[1;32m    989\u001b[0m     hook(request)\n\u001b[0;32m--> 991\u001b[0m response \u001b[38;5;241m=\u001b[39m \u001b[38;5;28;43mself\u001b[39;49m\u001b[38;5;241;43m.\u001b[39;49m\u001b[43m_send_single_request\u001b[49m\u001b[43m(\u001b[49m\u001b[43mrequest\u001b[49m\u001b[43m)\u001b[49m\n\u001b[1;32m    992\u001b[0m \u001b[38;5;28;01mtry\u001b[39;00m:\n\u001b[1;32m    993\u001b[0m     \u001b[38;5;28;01mfor\u001b[39;00m hook \u001b[38;5;129;01min\u001b[39;00m \u001b[38;5;28mself\u001b[39m\u001b[38;5;241m.\u001b[39m_event_hooks[\u001b[38;5;124m\"\u001b[39m\u001b[38;5;124mresponse\u001b[39m\u001b[38;5;124m\"\u001b[39m]:\n",
      "File \u001b[0;32m~/conda/envs/MNE-EEG/lib/python3.11/site-packages/httpx/_client.py:1027\u001b[0m, in \u001b[0;36mClient._send_single_request\u001b[0;34m(self, request)\u001b[0m\n\u001b[1;32m   1022\u001b[0m     \u001b[38;5;28;01mraise\u001b[39;00m \u001b[38;5;167;01mRuntimeError\u001b[39;00m(\n\u001b[1;32m   1023\u001b[0m         \u001b[38;5;124m\"\u001b[39m\u001b[38;5;124mAttempted to send an async request with a sync Client instance.\u001b[39m\u001b[38;5;124m\"\u001b[39m\n\u001b[1;32m   1024\u001b[0m     )\n\u001b[1;32m   1026\u001b[0m \u001b[38;5;28;01mwith\u001b[39;00m request_context(request\u001b[38;5;241m=\u001b[39mrequest):\n\u001b[0;32m-> 1027\u001b[0m     response \u001b[38;5;241m=\u001b[39m \u001b[43mtransport\u001b[49m\u001b[38;5;241;43m.\u001b[39;49m\u001b[43mhandle_request\u001b[49m\u001b[43m(\u001b[49m\u001b[43mrequest\u001b[49m\u001b[43m)\u001b[49m\n\u001b[1;32m   1029\u001b[0m \u001b[38;5;28;01massert\u001b[39;00m \u001b[38;5;28misinstance\u001b[39m(response\u001b[38;5;241m.\u001b[39mstream, SyncByteStream)\n\u001b[1;32m   1031\u001b[0m response\u001b[38;5;241m.\u001b[39mrequest \u001b[38;5;241m=\u001b[39m request\n",
      "File \u001b[0;32m~/conda/envs/MNE-EEG/lib/python3.11/site-packages/httpx/_transports/default.py:236\u001b[0m, in \u001b[0;36mHTTPTransport.handle_request\u001b[0;34m(self, request)\u001b[0m\n\u001b[1;32m    223\u001b[0m req \u001b[38;5;241m=\u001b[39m httpcore\u001b[38;5;241m.\u001b[39mRequest(\n\u001b[1;32m    224\u001b[0m     method\u001b[38;5;241m=\u001b[39mrequest\u001b[38;5;241m.\u001b[39mmethod,\n\u001b[1;32m    225\u001b[0m     url\u001b[38;5;241m=\u001b[39mhttpcore\u001b[38;5;241m.\u001b[39mURL(\n\u001b[0;32m   (...)\u001b[0m\n\u001b[1;32m    233\u001b[0m     extensions\u001b[38;5;241m=\u001b[39mrequest\u001b[38;5;241m.\u001b[39mextensions,\n\u001b[1;32m    234\u001b[0m )\n\u001b[1;32m    235\u001b[0m \u001b[38;5;28;01mwith\u001b[39;00m map_httpcore_exceptions():\n\u001b[0;32m--> 236\u001b[0m     resp \u001b[38;5;241m=\u001b[39m \u001b[38;5;28;43mself\u001b[39;49m\u001b[38;5;241;43m.\u001b[39;49m\u001b[43m_pool\u001b[49m\u001b[38;5;241;43m.\u001b[39;49m\u001b[43mhandle_request\u001b[49m\u001b[43m(\u001b[49m\u001b[43mreq\u001b[49m\u001b[43m)\u001b[49m\n\u001b[1;32m    238\u001b[0m \u001b[38;5;28;01massert\u001b[39;00m \u001b[38;5;28misinstance\u001b[39m(resp\u001b[38;5;241m.\u001b[39mstream, typing\u001b[38;5;241m.\u001b[39mIterable)\n\u001b[1;32m    240\u001b[0m \u001b[38;5;28;01mreturn\u001b[39;00m Response(\n\u001b[1;32m    241\u001b[0m     status_code\u001b[38;5;241m=\u001b[39mresp\u001b[38;5;241m.\u001b[39mstatus,\n\u001b[1;32m    242\u001b[0m     headers\u001b[38;5;241m=\u001b[39mresp\u001b[38;5;241m.\u001b[39mheaders,\n\u001b[1;32m    243\u001b[0m     stream\u001b[38;5;241m=\u001b[39mResponseStream(resp\u001b[38;5;241m.\u001b[39mstream),\n\u001b[1;32m    244\u001b[0m     extensions\u001b[38;5;241m=\u001b[39mresp\u001b[38;5;241m.\u001b[39mextensions,\n\u001b[1;32m    245\u001b[0m )\n",
      "File \u001b[0;32m~/conda/envs/MNE-EEG/lib/python3.11/site-packages/httpcore/_sync/connection_pool.py:256\u001b[0m, in \u001b[0;36mConnectionPool.handle_request\u001b[0;34m(self, request)\u001b[0m\n\u001b[1;32m    253\u001b[0m         closing \u001b[38;5;241m=\u001b[39m \u001b[38;5;28mself\u001b[39m\u001b[38;5;241m.\u001b[39m_assign_requests_to_connections()\n\u001b[1;32m    255\u001b[0m     \u001b[38;5;28mself\u001b[39m\u001b[38;5;241m.\u001b[39m_close_connections(closing)\n\u001b[0;32m--> 256\u001b[0m     \u001b[38;5;28;01mraise\u001b[39;00m exc \u001b[38;5;28;01mfrom\u001b[39;00m \u001b[38;5;28;01mNone\u001b[39;00m\n\u001b[1;32m    258\u001b[0m \u001b[38;5;66;03m# Return the response. Note that in this case we still have to manage\u001b[39;00m\n\u001b[1;32m    259\u001b[0m \u001b[38;5;66;03m# the point at which the response is closed.\u001b[39;00m\n\u001b[1;32m    260\u001b[0m \u001b[38;5;28;01massert\u001b[39;00m \u001b[38;5;28misinstance\u001b[39m(response\u001b[38;5;241m.\u001b[39mstream, typing\u001b[38;5;241m.\u001b[39mIterable)\n",
      "File \u001b[0;32m~/conda/envs/MNE-EEG/lib/python3.11/site-packages/httpcore/_sync/connection_pool.py:236\u001b[0m, in \u001b[0;36mConnectionPool.handle_request\u001b[0;34m(self, request)\u001b[0m\n\u001b[1;32m    232\u001b[0m connection \u001b[38;5;241m=\u001b[39m pool_request\u001b[38;5;241m.\u001b[39mwait_for_connection(timeout\u001b[38;5;241m=\u001b[39mtimeout)\n\u001b[1;32m    234\u001b[0m \u001b[38;5;28;01mtry\u001b[39;00m:\n\u001b[1;32m    235\u001b[0m     \u001b[38;5;66;03m# Send the request on the assigned connection.\u001b[39;00m\n\u001b[0;32m--> 236\u001b[0m     response \u001b[38;5;241m=\u001b[39m \u001b[43mconnection\u001b[49m\u001b[38;5;241;43m.\u001b[39;49m\u001b[43mhandle_request\u001b[49m\u001b[43m(\u001b[49m\n\u001b[1;32m    237\u001b[0m \u001b[43m        \u001b[49m\u001b[43mpool_request\u001b[49m\u001b[38;5;241;43m.\u001b[39;49m\u001b[43mrequest\u001b[49m\n\u001b[1;32m    238\u001b[0m \u001b[43m    \u001b[49m\u001b[43m)\u001b[49m\n\u001b[1;32m    239\u001b[0m \u001b[38;5;28;01mexcept\u001b[39;00m ConnectionNotAvailable:\n\u001b[1;32m    240\u001b[0m     \u001b[38;5;66;03m# In some cases a connection may initially be available to\u001b[39;00m\n\u001b[1;32m    241\u001b[0m     \u001b[38;5;66;03m# handle a request, but then become unavailable.\u001b[39;00m\n\u001b[1;32m    242\u001b[0m     \u001b[38;5;66;03m#\u001b[39;00m\n\u001b[1;32m    243\u001b[0m     \u001b[38;5;66;03m# In this case we clear the connection and try again.\u001b[39;00m\n\u001b[1;32m    244\u001b[0m     pool_request\u001b[38;5;241m.\u001b[39mclear_connection()\n",
      "File \u001b[0;32m~/conda/envs/MNE-EEG/lib/python3.11/site-packages/httpcore/_sync/connection.py:103\u001b[0m, in \u001b[0;36mHTTPConnection.handle_request\u001b[0;34m(self, request)\u001b[0m\n\u001b[1;32m    100\u001b[0m     \u001b[38;5;28mself\u001b[39m\u001b[38;5;241m.\u001b[39m_connect_failed \u001b[38;5;241m=\u001b[39m \u001b[38;5;28;01mTrue\u001b[39;00m\n\u001b[1;32m    101\u001b[0m     \u001b[38;5;28;01mraise\u001b[39;00m exc\n\u001b[0;32m--> 103\u001b[0m \u001b[38;5;28;01mreturn\u001b[39;00m \u001b[38;5;28;43mself\u001b[39;49m\u001b[38;5;241;43m.\u001b[39;49m\u001b[43m_connection\u001b[49m\u001b[38;5;241;43m.\u001b[39;49m\u001b[43mhandle_request\u001b[49m\u001b[43m(\u001b[49m\u001b[43mrequest\u001b[49m\u001b[43m)\u001b[49m\n",
      "File \u001b[0;32m~/conda/envs/MNE-EEG/lib/python3.11/site-packages/httpcore/_sync/http11.py:136\u001b[0m, in \u001b[0;36mHTTP11Connection.handle_request\u001b[0;34m(self, request)\u001b[0m\n\u001b[1;32m    134\u001b[0m     \u001b[38;5;28;01mwith\u001b[39;00m Trace(\u001b[38;5;124m\"\u001b[39m\u001b[38;5;124mresponse_closed\u001b[39m\u001b[38;5;124m\"\u001b[39m, logger, request) \u001b[38;5;28;01mas\u001b[39;00m trace:\n\u001b[1;32m    135\u001b[0m         \u001b[38;5;28mself\u001b[39m\u001b[38;5;241m.\u001b[39m_response_closed()\n\u001b[0;32m--> 136\u001b[0m \u001b[38;5;28;01mraise\u001b[39;00m exc\n",
      "File \u001b[0;32m~/conda/envs/MNE-EEG/lib/python3.11/site-packages/httpcore/_sync/http11.py:106\u001b[0m, in \u001b[0;36mHTTP11Connection.handle_request\u001b[0;34m(self, request)\u001b[0m\n\u001b[1;32m     95\u001b[0m     \u001b[38;5;28;01mpass\u001b[39;00m\n\u001b[1;32m     97\u001b[0m \u001b[38;5;28;01mwith\u001b[39;00m Trace(\n\u001b[1;32m     98\u001b[0m     \u001b[38;5;124m\"\u001b[39m\u001b[38;5;124mreceive_response_headers\u001b[39m\u001b[38;5;124m\"\u001b[39m, logger, request, kwargs\n\u001b[1;32m     99\u001b[0m ) \u001b[38;5;28;01mas\u001b[39;00m trace:\n\u001b[1;32m    100\u001b[0m     (\n\u001b[1;32m    101\u001b[0m         http_version,\n\u001b[1;32m    102\u001b[0m         status,\n\u001b[1;32m    103\u001b[0m         reason_phrase,\n\u001b[1;32m    104\u001b[0m         headers,\n\u001b[1;32m    105\u001b[0m         trailing_data,\n\u001b[0;32m--> 106\u001b[0m     ) \u001b[38;5;241m=\u001b[39m \u001b[38;5;28;43mself\u001b[39;49m\u001b[38;5;241;43m.\u001b[39;49m\u001b[43m_receive_response_headers\u001b[49m\u001b[43m(\u001b[49m\u001b[38;5;241;43m*\u001b[39;49m\u001b[38;5;241;43m*\u001b[39;49m\u001b[43mkwargs\u001b[49m\u001b[43m)\u001b[49m\n\u001b[1;32m    107\u001b[0m     trace\u001b[38;5;241m.\u001b[39mreturn_value \u001b[38;5;241m=\u001b[39m (\n\u001b[1;32m    108\u001b[0m         http_version,\n\u001b[1;32m    109\u001b[0m         status,\n\u001b[1;32m    110\u001b[0m         reason_phrase,\n\u001b[1;32m    111\u001b[0m         headers,\n\u001b[1;32m    112\u001b[0m     )\n\u001b[1;32m    114\u001b[0m network_stream \u001b[38;5;241m=\u001b[39m \u001b[38;5;28mself\u001b[39m\u001b[38;5;241m.\u001b[39m_network_stream\n",
      "File \u001b[0;32m~/conda/envs/MNE-EEG/lib/python3.11/site-packages/httpcore/_sync/http11.py:177\u001b[0m, in \u001b[0;36mHTTP11Connection._receive_response_headers\u001b[0;34m(self, request)\u001b[0m\n\u001b[1;32m    174\u001b[0m timeout \u001b[38;5;241m=\u001b[39m timeouts\u001b[38;5;241m.\u001b[39mget(\u001b[38;5;124m\"\u001b[39m\u001b[38;5;124mread\u001b[39m\u001b[38;5;124m\"\u001b[39m, \u001b[38;5;28;01mNone\u001b[39;00m)\n\u001b[1;32m    176\u001b[0m \u001b[38;5;28;01mwhile\u001b[39;00m \u001b[38;5;28;01mTrue\u001b[39;00m:\n\u001b[0;32m--> 177\u001b[0m     event \u001b[38;5;241m=\u001b[39m \u001b[38;5;28;43mself\u001b[39;49m\u001b[38;5;241;43m.\u001b[39;49m\u001b[43m_receive_event\u001b[49m\u001b[43m(\u001b[49m\u001b[43mtimeout\u001b[49m\u001b[38;5;241;43m=\u001b[39;49m\u001b[43mtimeout\u001b[49m\u001b[43m)\u001b[49m\n\u001b[1;32m    178\u001b[0m     \u001b[38;5;28;01mif\u001b[39;00m \u001b[38;5;28misinstance\u001b[39m(event, h11\u001b[38;5;241m.\u001b[39mResponse):\n\u001b[1;32m    179\u001b[0m         \u001b[38;5;28;01mbreak\u001b[39;00m\n",
      "File \u001b[0;32m~/conda/envs/MNE-EEG/lib/python3.11/site-packages/httpcore/_sync/http11.py:217\u001b[0m, in \u001b[0;36mHTTP11Connection._receive_event\u001b[0;34m(self, timeout)\u001b[0m\n\u001b[1;32m    214\u001b[0m     event \u001b[38;5;241m=\u001b[39m \u001b[38;5;28mself\u001b[39m\u001b[38;5;241m.\u001b[39m_h11_state\u001b[38;5;241m.\u001b[39mnext_event()\n\u001b[1;32m    216\u001b[0m \u001b[38;5;28;01mif\u001b[39;00m event \u001b[38;5;129;01mis\u001b[39;00m h11\u001b[38;5;241m.\u001b[39mNEED_DATA:\n\u001b[0;32m--> 217\u001b[0m     data \u001b[38;5;241m=\u001b[39m \u001b[38;5;28;43mself\u001b[39;49m\u001b[38;5;241;43m.\u001b[39;49m\u001b[43m_network_stream\u001b[49m\u001b[38;5;241;43m.\u001b[39;49m\u001b[43mread\u001b[49m\u001b[43m(\u001b[49m\n\u001b[1;32m    218\u001b[0m \u001b[43m        \u001b[49m\u001b[38;5;28;43mself\u001b[39;49m\u001b[38;5;241;43m.\u001b[39;49m\u001b[43mREAD_NUM_BYTES\u001b[49m\u001b[43m,\u001b[49m\u001b[43m \u001b[49m\u001b[43mtimeout\u001b[49m\u001b[38;5;241;43m=\u001b[39;49m\u001b[43mtimeout\u001b[49m\n\u001b[1;32m    219\u001b[0m \u001b[43m    \u001b[49m\u001b[43m)\u001b[49m\n\u001b[1;32m    221\u001b[0m     \u001b[38;5;66;03m# If we feed this case through h11 we'll raise an exception like:\u001b[39;00m\n\u001b[1;32m    222\u001b[0m     \u001b[38;5;66;03m#\u001b[39;00m\n\u001b[1;32m    223\u001b[0m     \u001b[38;5;66;03m#     httpcore.RemoteProtocolError: can't handle event type\u001b[39;00m\n\u001b[0;32m   (...)\u001b[0m\n\u001b[1;32m    227\u001b[0m     \u001b[38;5;66;03m# perspective. Instead we handle this case distinctly and treat\u001b[39;00m\n\u001b[1;32m    228\u001b[0m     \u001b[38;5;66;03m# it as a ConnectError.\u001b[39;00m\n\u001b[1;32m    229\u001b[0m     \u001b[38;5;28;01mif\u001b[39;00m data \u001b[38;5;241m==\u001b[39m \u001b[38;5;124mb\u001b[39m\u001b[38;5;124m\"\u001b[39m\u001b[38;5;124m\"\u001b[39m \u001b[38;5;129;01mand\u001b[39;00m \u001b[38;5;28mself\u001b[39m\u001b[38;5;241m.\u001b[39m_h11_state\u001b[38;5;241m.\u001b[39mtheir_state \u001b[38;5;241m==\u001b[39m h11\u001b[38;5;241m.\u001b[39mSEND_RESPONSE:\n",
      "File \u001b[0;32m~/conda/envs/MNE-EEG/lib/python3.11/site-packages/httpcore/_backends/sync.py:128\u001b[0m, in \u001b[0;36mSyncStream.read\u001b[0;34m(self, max_bytes, timeout)\u001b[0m\n\u001b[1;32m    126\u001b[0m \u001b[38;5;28;01mwith\u001b[39;00m map_exceptions(exc_map):\n\u001b[1;32m    127\u001b[0m     \u001b[38;5;28mself\u001b[39m\u001b[38;5;241m.\u001b[39m_sock\u001b[38;5;241m.\u001b[39msettimeout(timeout)\n\u001b[0;32m--> 128\u001b[0m     \u001b[38;5;28;01mreturn\u001b[39;00m \u001b[38;5;28;43mself\u001b[39;49m\u001b[38;5;241;43m.\u001b[39;49m\u001b[43m_sock\u001b[49m\u001b[38;5;241;43m.\u001b[39;49m\u001b[43mrecv\u001b[49m\u001b[43m(\u001b[49m\u001b[43mmax_bytes\u001b[49m\u001b[43m)\u001b[49m\n",
      "\u001b[0;31mKeyboardInterrupt\u001b[0m: "
     ]
    }
   ],
   "source": [
    "from tqdm import tqdm\n",
    "\n",
    "# 获取allCharacter的唯一字符并保持顺序\n",
    "unique_characters = list(dict.fromkeys(allCharacter))\n",
    "\n",
    "# 找到allCharacter中每个字符在去重后的字符列表中的索引\n",
    "unique_indices = [allCharacter.index(ch) for ch in unique_characters]\n",
    "\n",
    "# 使用原始的allCharacterEmbedding根据去重后的索引映射\n",
    "# allCharacterEmbedding_unique = [allCharacterEmbedding[i] for i in tqdm(unique_indices, desc=\"Mapping embeddings\")]\n",
    "allCharacterEmbedding = [Ollama.getEmbed(ch) for ch in tqdm(unique_characters, desc=\"Processing embeddings\")]\n"
   ]
  },
  {
   "cell_type": "code",
   "execution_count": 39,
   "metadata": {},
   "outputs": [
    {
     "name": "stdout",
     "output_type": "stream",
     "text": [
      "9,我,想,他,是,趁,一,群,野,鸟,迁,徙,的,机,会,出,走,动,身,那,天,早,晨,把,星,球,收,拾,得,井,有,条,仔,细,地,疏,通,了,活,火,山,上,两,座,热,餐,很,方,便,还,死,不,过,正,像,所,说,谁,准,呢,！,以,这,也,照,样,要,就,缓,均,匀,燃,烧,喷,发,跟,烟,囱,冒,当,然,在,们,实,太,小,没,法,去,它,造,成,么,多,麻,烦,由,于,个,缘,故,王,子,拔,掉,刚,长,来,几,株,猴,面,包,树,幼,苗,心,情,点,忧,郁,再,回,些,习,惯,儿,都,显,格,外,亲,切,而,最,后,次,给,花,浇,水,备,盖,罩,时,候,只,觉,哭,见,啦,对,可,她,答,又,遍,咳,嗽,起,但,感,前,傻,终,开,口,请,你,原,谅,愿,能,幸,福,到,吃,惊,居,声,责,举,着,茫,知,措,站,懂,般,恬,淡,柔,爱,错,领,什,紧,和,…,放,边,吧,用,风,并,容,易,夜,晚,新,鲜,空,气,好,处,朵,虫,兽,既,认,识,蝴,蝶,应,该,受,三,毛,挺,看,已,经,远,至,根,本,怕,爪,真,让,四,刺,随,别,磨,蹭,人,决,定,因,为,意,自,己,流,泪,如,此,骄,傲,1,0,颗,附,近,3,2,5,号,6,7,8,行,始,拜,访,找,事,干,增,第,住,国,穿,紫,红,镶,白,鼬,皮,袍,端,坐,张,简,朴,派,庄,严,哈,臣,民,大,叫,纳,闷,从,怎,道,世,界,非,常,单,某,朝,下,里,整,被,袭,华,丽,占,满,累,打,欠,违,宫,廷,礼,仪,禁,止,忍,歉,疚,路,直,睡,命,令,年,玩,吓,涨,脸,呣,嘟,哝,高,兴,其,尊,重,权,威,服,专,制,君,主,善,良,达,理,番,话,畅,极,将,军,变,海,吗,怯,生,问,挪,摆,奇,怪,统,治,陛,允,许,向,您,提,题,赶,抢,明,翼,做,手,势,指,全,归,仅,宇,宙,马,纪,律,涣,散,力,使,叹,果,拥,十,七,二,百,甚,日,落,连,椅,遗,弃,难,壮,胆,求,阳,飞,另,或,者,写,部,悲,剧,拒,执,肯,每,接,首,先,建,立,合,基,础,老,姓,投,反,之,件,忘,记,按,则,等,熟,翻,厚,历,书,概,今,分,乖,憾,腻,任,司,审,判,呀,巡,视,车,慌,噢,瞥,眼,比,智,哪,必,留,耗,听,音,刑,啊,取,悠,赦,免,喜,欢,装,待,刻,妨,钟,内,离,吭,犹,豫,程,喊,神,态,旅,途,中,言,语,虚,荣,崇,顶,帽,趣,致,家,呼,惜,思,拍,教,巴,掌,抬,谦,逊,五,调,颂,扬,承,英,俊,摩,登,富,学,帮,忙,管,微,耸,肩,膀,哟,句,酒,鬼,间,短,却,陷,入,深,怅,惘,静,桌,堆,瓶,喝,伤,同,羞,愧,垂,脑,袋,坦,助,完,解,商,碌,头,卷,灭,加,六,八,嚯,共,亿,万,千,工,作,夫,闲,聊,罢,搅,跑,金,龟,弄,片,害,笔,账,目,差,湿,病,平,缺,乏,锻,炼,逛,才,甭,东,西,苍,蝇,闪,亮,蜜,蜂,色,无,望,胡,乱,拿,讲,究,精,确,‘,’,码,买,—,现,暗,忖,虽,够,属,何,钻,石,岛,屿,申,利,倒,营,计,算,数,块,围,巾,脖,带,摘,存,银,总,纸,进,抽,屉,锁,诗,相,期,结,舌,古,4,盏,灯,角,房,少,义,唤,醒,熄,美,啰,敬,招,规,呗,帕,擦,额,休,息,改,惨,转,快,圈,秒,月,瞧,忠,职,守,朋,友,办,桩,性,懒,步,绕,慢,光,往,运,继,续,笑,关,惋,交,挤,敢,恋,眷,顾,倍,著,位,探,险,喘,洋,河,城,市,脉,沙,漠,业,周,雄,伟,哩,哦,失,测,忆,品,查,谎,灾,贪,杯,复,杂,供,物,证,忽,激,嗨,削,支,铅,换,钢,录,瞬,即,逝,宝,贵,永,移,形,罕,涸,恒,插,追,消,危,卫,抵,御,丢,孤,零,悔,振,依,名,响,普,黑,括,九,约,念,电,洲,需,维,持,浩,荡,稍,幅,景,观,歌,院,跳,芭,蕾,舞,紊,场,兰,澳,亚,退,伯,幕,轮,俄,罗,斯,印,度,欧,南,北,搞,序,蔚,唯,俩,寻,撒,拉,挖,洞,村,种,梦,辘,轳,桶,吊,绳,咕,吹,沉,久,旧,标,唱,栏,稳,搁,耳,晃,嘴,睛,节,质,跋,涉,臂,愉,悦,灵,男,孩,圣,诞,午,弥,乐,甜,曾,辉,映,熠,园,玫,瑰,痛,吸,曦,泛,泽,溢,践,诺,羊,画,负,衣,掏,稿,菜,棵,狐,狸,公,伙,剖,蟒,蛇,递,揪,降,阵,默,异,遇,独,荒,偶,初,哎,驯,养,恐,堵,残,败,墙,傍,腿,悬,断,驳,影,足,迹,米,停,毒,液,握,猛,脚,低,半,黄,昂,竖,伸,枪,奔,柱,骤,跌,渗,缝,轻,雪,抱,怀,谈,戴,沾,穴,凝,双,搂,弹,击,濒,临,亡,告,诉,希,况,修,滑,渊,肃,线,绵,箱,渐,暖,更,补,救,凉,清,泉,咯,恶,昨,曲,呵,导,弱,讨,窗,疯,闹,仿,佛,铃,铛,苦,担,咬,坏,悄,仍,安,副,躯,壳,脱,层,馁,锈,跨,踝,伴,体,倾,系,底,玻,璃,珠,秘,密,页,匆,猜,哇,貌,苹,漂,议,猎,厌,母,鸡,略,联,毫,彼,各,讶,捉,模,充,辨,召,麦,田,衷,旦,妙,拂,浪,注,店,购,售,耐,草,瞅,误,源,越,奋,折,式,姑,娘,葡,萄,假,颜,遮,障,除,怨,诩,费,须,扳,送,客,拨,载,列,右,左,雷,似,轰,鸣,驶,震,颤,批,鼻,贴,布,娃,夺,卖,渴,丸,吞,粒,省,滴,喔,凶,饥,表,示,垠,漫,唐,烁,厉,盘,旋,蹈,旁,褶,皱,丘,寂,芒,藏,突,奥,宅,传,埋,迷,捧,碎,贝,娇,闭,飘,绺,唇,绽,丝,贞,焰,保,护,晓,诚,倘,若,挨,集,宽,广,类,信,劝,字,劲,踏,圆,环,扭,门,艘,船,镯,凡,碰,纯,洁,岗,怜,谜,瓣,驼,队,辛,攀,齐,膝,凳,陡,峭,峰,尖,锋,象,岩,盛,拼,耻,料,否,凭,趴,巧,忡,灌,木,喽,堂,惹,叠,汉,聪,咦,喻,筋,植,舒,展,枝,嫩,萝,卜,土,壤,蔓,延,撑,裂,束,梳,洗,矩,耽,捅,娄,架,峻,破,例,抛,矜,潜,伏,察,值,努,功,焦,急,绪,染,段,赏,夕,温,乡,昏,余,晖,揭,索,论,卸,拧,螺,钉,乎,饮,饶,案,恼,粹,忿,冲,纤,尽,量,松,锤,敲,愕,油,污,俯,丑,陋,堪,摇,曳,闻,香,蘑,菇,份,战,争,胖,噎,具,慰,笨,碍,丛,凋,谢,芽,含,苞,欲,绿,萼,扮,挑,选,裙,顺,虞,纹,艳,俏,升,蓬,慕,嘛,楚,壶,疑,呛,虎,伺,冷,顿,亏,搭,芳,享,彩,逃,背,岁,描,森,林,图,囫,囵,嚼,躺,化,杰,肚,释,史,术,煌,涯,泄,择,桑,试,桥,尔,政,械,师,乘,匹,项,困,攸,靠,板,蒙,嗯,遭,揉,肖,及,瞪,饿,强,烈,胁,匪,夷,呆,拆,评,焕,漏,豪,脆,逗,遐,贯,竭,屋,拴,B,丁,镜,文,编,〇,际,篇,裁,报,套,介,绍,游,戏,兄,弟,父,挣,钱,幢,砖,竺,葵,鸽,郎,嚷,据,童,率,读,述,盒,且,材,矮,犯,"
     ]
    }
   ],
   "source": [
    "for ch in unique_characters:\n",
    "    print(ch, end=\",\")\n"
   ]
  },
  {
   "cell_type": "code",
   "execution_count": 31,
   "metadata": {},
   "outputs": [],
   "source": [
    "from sklearn.cluster import KMeans\n",
    "\n",
    "\n",
    "kmeans = KMeans(n_clusters=50)  # 假设你想分成5个类别\n",
    "kmeans.fit(allCharacterEmbedding_unique)\n",
    "labels = kmeans.labels_"
   ]
  },
  {
   "cell_type": "code",
   "execution_count": 32,
   "metadata": {},
   "outputs": [
    {
     "name": "stdout",
     "output_type": "stream",
     "text": [
      "{np.int32(38): ['9', '一', '上', '三', '四', '1', '3', '2', '5', '6', '7', '8', '第', '十', '七', '二', '之', '五', '六', '八', '4', '转', '九', '各', 'B'], np.int32(32): ['我', '他', '的', '那', '了', '很', '！', '这', '也', '就', '们', '它', '亲', '而', '啦', '对', '她', '你', '…', '吧', '好', '该', '哈', '某', '您', '或', '呀', '噢', '啊', '哟', '甭', '‘', '’', '呗', '哩', '哦', '嗨', '哎', '咯', '昨', '呵', '哇', '喔', '奥', '喽', '咦', '嘛', '嗯', '〇'], np.int32(17): ['想', '趁', '出', '收', '得', '通', '还', '过', '要', '发', '跟', '在', '没', '去', '来', '回', '给', '备', '答', '开', '请', '到', '懂', '领', '用', '随', '别', '为', '附', '拜', '找', '被', '问', '做', '求', '接', '按', '等', '留', '取', '待', '致', '帮', '入', '助', '拿', '买', '够', '存', '进', '招', '改', '快', '办', '往', '交', '测', '换', '告', '讨', '送', '信', '劝', '凭', '选', '试', '靠', '遭', '报'], np.int32(35): ['是', '会', '有', '不', '像', '所', '均', '当', '然', '时', '觉', '可', '但', '愿', '能', '应', '因', '如', '权', '难', '先', '必', '确', '虽', '敢', '证', '需', '稳', '况', '似', '倘', '若', '否', '堪', '欲'], np.int32(34): ['群', '属', '形', '种', '栏', '系', '式', '粒', '类', '例'], np.int32(5): ['野', '鸟', '猴', '虫', '兽', '蝶', '鼬', '龟', '蝇', '蜂', '羊', '狐', '狸', '蟒', '蛇', '驯', '雪', '猎', '鸡', '草', '驼', '象', '螺', '蘑', '楚', '虎', '鸽'], np.int32(15): ['迁', '徙', '匀', '惯', '挺', '袭', '畅', '挪', '飞', '欢', '耸', '闪', '跳', '晃', '悦', '熠', '奔', '滑', '跨', '漂', '轰', '驶', '飘', '洁', '峭', '曳', '俏', '焕', '贯'], np.int32(23): ['机', '动', '天', '地', '火', '死', '法', '子', '树', '幼', '心', '情', '儿', '花', '水', '爱', '夜', '人', '意', '事', '红', '朴', '民', '世', '朝', '忍', '命', '脸', '服', '君', '主', '军', '宙', '马', '老', '姓', '书', '车', '钟', '神', '言', '思', '酒', '鬼', '静', '脑', '夫', '金', '病', '色', '精', '古', '灯', '美', '月', '性', '步', '光', '市', '物', '名', '景', '歌', '梦', '灵', '男', '孩', '午', '画', '菜', '影', '迹', '佛', '貌', '母', '田', '源', '娘', '颜', '震', '字', '木', '汉', '焦', '染', '案', '油', '香', '战', '纹', '彩', '化', '镜', '兄', '弟', '父', '钱', '郎', '童'], np.int32(4): ['走', '餐', '便', '吃', '居', '行', '访', '住', '穿', '坐', '睡', '玩', '椅', '旅', '学', '忙', '桌', '喝', '闲', '聊', '跑', '逛', '笑', '舞', '俩', '购', '客', '宅', '踏', '凳', '洗', '饮', '搭', '躺', '游', '读'], np.int32(9): ['身', '口', '爪', '袍', '翼', '手', '胆', '掌', '肩', '膀', '伤', '头', '脖', '舌', '耳', '嘴', '臂', '痛', '衣', '腿', '足', '脚', '躯', '踝', '体', '唇', '膝', '筋', '背', '肚', '械', '胁'], np.int32(16): ['早', '热', '燃', '起', '增', '占', '满', '涨', '兴', '变', '壮', '崇', '顶', '抬', '调', '加', '倍', '供', '贵', '稍', '养', '伸', '暖', '更', '补', '充', '右', '左', '宽', '攀', '延', '升', '乘'], np.int32(47): ['晨', '候', '着', '廷', '仪', '提', '途', '坦', '相', '盏', '脉', '业', '担', '彼', '旦', '耐', '载', '蹈', '架', '顿', '项'], np.int32(26): ['把', '谅', '放', '让', '派', '摆', '散', '投', '装', '弄', '平', '擦', '移', '普', '搁', '溢', '递', '沾', '弹', '修', '售', '贴', '卖', '拼', '趴', '叠', '抛', '逗'], np.int32(20): ['星', '座', '站', '处', '端', '势', '础', '态', '堆', '桩', '位', '场', '园', '阵', '穴', '列', '岗', '乡'], np.int32(46): ['球', '山', '苗', '气', '根', '摩', '管', '笔', '石', '圈', '杯', '轮', '洞', '枪', '珠', '圆', '环', '队', '峰', '壤', '矩', '钉', '菇', '芽', '壶', '板', '砖'], np.int32(0): ['拾', '照', '拔', '紧', '磨', '蹭', '打', '赶', '抢', '拥', '拍', '搅', '钻', '抽', '挤', '追', '搞', '挖', '吹', '吸', '掏', '揪', '握', '抱', '搂', '击', '咬', '猜', '捉', '扳', '夺', '捧', '挨', '碰', '惹', '撑', '梳', '捅', '拧', '冲', '锤', '敲', '摇', '挑', '嚼', '揉', '挣'], np.int32(18): ['井', '方', '正', '格', '外', '后', '大', '直', '专', '良', '明', '另', '首', '内', '中', '深', '同', '东', '西', '印', '南', '北', '乐', '诺', '独', '昂', '安', '衷', '奋', '广', '伏', '温', '余', '林', '蒙', '丁'], np.int32(12): ['条', '样', '多', '个', '几', '株', '点', '些', '次', '颗', '号', '指', '百', '部', '每', '合', '件', '分', '卷', '亿', '片', '账', '码', '计', '算', '数', '块', '期', '规', '额', '息', '秒', '品', '录', '度', '节', '质', '伙', '页', '毫', '表', '料', '值', '量', '份', '岁', '率', '材'], np.int32(13): ['仔', '呣', '威', '允', '阳', '肯', '豫', '英', '嚯', '伟', '维', '欧', '轳', '绺', '囫', '囵', '文'], np.int32(39): ['细', '小', '淡', '晚', '空', '0', '简', '闷', '下', '免', '微', '短', '差', '无', '暗', '少', '慢', '罕', '零', '负', '降', '低', '半', '跌', '轻', '凉', '弱', '底', '冷', '矮'], np.int32(14): ['疏', '忧', '郁', '恬', '泪', '歉', '疚', '涣', '叹', '悲', '憾', '悠', '赦', '惜', '谦', '怅', '愧', '忖', '惋', '悔', '愉', '曦', '默', '肃', '渐', '悄', '馁', '璃', '诩', '寂', '怜', '矜', '绪', '慰', '凋', '竺'], np.int32(7): ['活', '举', '受', '白', '礼', '制', '理', '生', '使', '执', '建', '立', '基', '承', '万', '千', '工', '敬', '守', '友', '险', '御', '持', '诞', '公', '怀', '联', '贞', '保', '护', '枝', '含', '享', '介'], np.int32(48): ['两', '烧', '烟', '柔', '紫', '嘟', '重', '熟', '厚', '乖', '腻', '啰', '忠', '振', '咕', '甜', '双', '绵', '疯', '锈', '玻', '姑', '布', '皱', '丘', '芒', '尖', '嫩', '纤', '胖', '苞', '绿', '裙'], np.int32(37): ['说', '遍', '张', '话', '治', '写', '作', '讲', '究', '著', '谈', '传', '功', '芳', '描', '编', '篇', '述'], np.int32(1): ['谁', '呢', '么', '什', '怎', '吗', '甚', '哪', '何', '偶', '希', '乎'], np.int32(43): ['准', '实', '真', '整', '违', '虚', '谎', '仿', '副', '假', '纯', '扮'], np.int32(10): ['以', '太', '成', '由', '于', '刚', '再', '习', '都', '最', '只', '又', '前', '终', '原', '知', '和', '并', '易', '新', '既', '已', '经', '至', '本', '自', '己', '此', '近', '国', '从', '非', '年', '其', '极', '将', '许', '向', '全', '仅', '纪', '者', '则', '历', '概', '今', '任', '比', '犹', '荣', '完', '共', '—', '现', '总', '继', '顾', '周', '即', '永', '恒', '依', '约', '澳', '亚', '俄', '唯', '曾', '泽', '初', '临', '清', '仍', '越', '费', '省', '藏', '齐', '盛', '尽', '杰', '尔', '及', '据', '且'], np.int32(3): ['缓', '禁', '止', '拒', '耗', '妨', '离', '灭', '罢', '熄', '关', '削', '消', '抵', '退', '停', '除', '卸', '拆'], np.int32(31): ['喷', '造', '浇', '流', '陷', '瓶', '垂', '湿', '锻', '炼', '铅', '桶', '沉', '渗', '凝', '泉', '丸', '吞', '滴', '埋', '瓣', '灌', '植', '潜'], np.int32(25): ['囱', '路', '家', '碌', '房', '城', '院', '村', '墙', '柱', '箱', '店', '门', '土', '屋', '幢'], np.int32(40): ['冒', '显', '见', '认', '识', '看', '审', '视', '瞥', '眼', '趣', '目', '望', '瞧', '恋', '查', '瞬', '观', '寻', '睛', '映', '遇', '秘', '辨', '瞅', '迷', '谜', '察', '伺', '瞪'], np.int32(11): ['麻', '故', '王', '长', '幸', '福', '鲜', '朵', '毛', '道', '常', '华', '高', '善', '达', '日', '教', '巴', '登', '富', '朋', '洋', '宝', '卫', '洲', '芭', '久', '棵', '黄', '须', '娃', '唐', '晓', '段', '匪', '夷', '葵'], np.int32(36): ['烦', '怕', '累', '怪', '害', '惨', '贪', '黑', '旧', '恐', '毒', '恶', '苦', '坏', '厌', '怨', '凶', '耻', '污', '丑', '陋', '笨', '犯'], np.int32(6): ['缘', '包', '罩', '刺', '干', '镶', '皮', '果', '连', '刻', '帽', '袋', '营', '围', '巾', '带', '纸', '屉', '结', '帕', '支', '插', '吊', '绳', '悬', '缝', '戴', '线', '铛', '伴', '丝', '堂', '蔓', '束', '萼', '匹', '脆', '拴', '套', '盒'], np.int32(41): ['掉', '傻', '错', '欠', '落', '遗', '弃', '忘', '缺', '懒', '失', '忽', '逝', '涸', '丢', '残', '败', '亡', '脱', '误', '碎', '亏', '逃', '漏'], np.int32(19): ['面', '纳', '乏', '喘', '灾', '危', '辘', '荒', '鼻', '渴', '饥', '焰', '努', '噎', '困', '饿', '竭'], np.int32(28): ['切', '解', '锁', '探', '剖', '堵', '断', '遮', '闭', '裂', '破', '揭', '泄', '裁'], np.int32(2): ['盖', '般', '边', '容', '界', '令', '番', '间', '角', '眷', '幅', '伯', '幕', '涉', '泛', '傍', '盘', '旁', '贝', '粹', '丛', '煌', '涯', '际'], np.int32(29): ['哭', '咳', '嗽', '声', '叫', '哝', '听', '音', '吭', '喊', '呼', '唤', '醒', '响', '念', '唱', '诉', '救', '闹', '铃', '召', '拨', '鸣', '闻', '呛', '嚷'], np.int32(44): ['感', '责', '决', '定', '始', '单', '宫', '尊', '统', '题', '剧', '记', '判', '商', '摘', '义', '职', '续', '忆', '杂', '序', '标', '跋', '导', '议', '略', '注', '批', '示', '诚', '凡', '喻', '展', '耽', '赏', '论', '饶', '争', '谢', '图', '史', '术', '择', '政', '评', '戏'], np.int32(24): ['惊', '吓', '奇', '陛', '慌', '喜', '羞', '激', '紊', '异', '猛', '骤', '匆', '讶', '突', '陡', '忡', '峻', '急', '恼', '忿', '愕', '碍', '遐'], np.int32(33): ['茫', '远', '傲', '怯', '却', '惘', '苍', '乱', '漠', '孤', '濒', '障', '垠', '漫', '昏', '疑', '呆'], np.int32(45): ['措', '骄', '庄', '严', '胡', '休', '浩', '罗', '蔚', '卜', '虞', '豪'], np.int32(49): ['风', '蝴', '颂', '扬', '辉', '瑰', '践', '窗', '拂', '颤', '烁', '褶', '绽', '锋', '娄', '晖', '蓬', '攸'], np.int32(8): ['臣', '司', '逊', '俊', '申', '银', '沙', '斯', '撒', '圣', '辛', '舒', '夕', '索', '松', '森', '释', '桑', '师', '肖', '绍'], np.int32(21): ['里', '力', '刑', '才', '利', '运', '钢', '电', '蕾', '兰', '拉', '液', '雷', '厉', '劲', '萝', '强'], np.int32(22): ['丽', '智', '亮', '蜜', '弥', '玫', '米', '渊', '密', '苹', '模', '麦', '妙', '葡', '萄', '娇', '巧', '聪', '艳', '慕', '烈'], np.int32(30): ['海', '宇', '岛', '屿', '河', '雄', '壳', '层', '浪', '艘', '船', '岩', '具', '桥'], np.int32(27): ['归', '反', '翻', '巡', '倒', '绕', '复', '荡', '驳', '竖', '倾', '折', '旋', '扭', '俯', '顺'], np.int32(42): ['律', '程', '语', '句', '诗', '括', '稿', '曲', '集', '镯']}\n"
     ]
    }
   ],
   "source": [
    "categorized_words = {}\n",
    "for idx, label in enumerate(labels):\n",
    "    categorized_words.setdefault(label, []).append(unique_characters[idx])\n",
    "print(categorized_words)\n"
   ]
  },
  {
   "cell_type": "code",
   "execution_count": 40,
   "metadata": {},
   "outputs": [
    {
     "name": "stdout",
     "output_type": "stream",
     "text": [
      "['拾', '照', '拔', '紧', '磨', '蹭', '打', '赶', '抢', '拥', '拍', '搅', '钻', '抽', '挤', '追', '搞', '挖', '吹', '吸', '掏', '揪', '握', '抱', '搂', '击', '咬', '猜', '捉', '扳', '夺', '捧', '挨', '碰', '惹', '撑', '梳', '捅', '拧', '冲', '锤', '敲', '摇', '挑', '嚼', '揉', '挣']\n",
      "['谁', '呢', '么', '什', '怎', '吗', '甚', '哪', '何', '偶', '希', '乎']\n",
      "['盖', '般', '边', '容', '界', '令', '番', '间', '角', '眷', '幅', '伯', '幕', '涉', '泛', '傍', '盘', '旁', '贝', '粹', '丛', '煌', '涯', '际']\n",
      "['缓', '禁', '止', '拒', '耗', '妨', '离', '灭', '罢', '熄', '关', '削', '消', '抵', '退', '停', '除', '卸', '拆']\n",
      "['走', '餐', '便', '吃', '居', '行', '访', '住', '穿', '坐', '睡', '玩', '椅', '旅', '学', '忙', '桌', '喝', '闲', '聊', '跑', '逛', '笑', '舞', '俩', '购', '客', '宅', '踏', '凳', '洗', '饮', '搭', '躺', '游', '读']\n",
      "['野', '鸟', '猴', '虫', '兽', '蝶', '鼬', '龟', '蝇', '蜂', '羊', '狐', '狸', '蟒', '蛇', '驯', '雪', '猎', '鸡', '草', '驼', '象', '螺', '蘑', '楚', '虎', '鸽']\n",
      "['缘', '包', '罩', '刺', '干', '镶', '皮', '果', '连', '刻', '帽', '袋', '营', '围', '巾', '带', '纸', '屉', '结', '帕', '支', '插', '吊', '绳', '悬', '缝', '戴', '线', '铛', '伴', '丝', '堂', '蔓', '束', '萼', '匹', '脆', '拴', '套', '盒']\n",
      "['活', '举', '受', '白', '礼', '制', '理', '生', '使', '执', '建', '立', '基', '承', '万', '千', '工', '敬', '守', '友', '险', '御', '持', '诞', '公', '怀', '联', '贞', '保', '护', '枝', '含', '享', '介']\n",
      "['臣', '司', '逊', '俊', '申', '银', '沙', '斯', '撒', '圣', '辛', '舒', '夕', '索', '松', '森', '释', '桑', '师', '肖', '绍']\n",
      "['身', '口', '爪', '袍', '翼', '手', '胆', '掌', '肩', '膀', '伤', '头', '脖', '舌', '耳', '嘴', '臂', '痛', '衣', '腿', '足', '脚', '躯', '踝', '体', '唇', '膝', '筋', '背', '肚', '械', '胁']\n",
      "['以', '太', '成', '由', '于', '刚', '再', '习', '都', '最', '只', '又', '前', '终', '原', '知', '和', '并', '易', '新', '既', '已', '经', '至', '本', '自', '己', '此', '近', '国', '从', '非', '年', '其', '极', '将', '许', '向', '全', '仅', '纪', '者', '则', '历', '概', '今', '任', '比', '犹', '荣', '完', '共', '—', '现', '总', '继', '顾', '周', '即', '永', '恒', '依', '约', '澳', '亚', '俄', '唯', '曾', '泽', '初', '临', '清', '仍', '越', '费', '省', '藏', '齐', '盛', '尽', '杰', '尔', '及', '据', '且']\n",
      "['麻', '故', '王', '长', '幸', '福', '鲜', '朵', '毛', '道', '常', '华', '高', '善', '达', '日', '教', '巴', '登', '富', '朋', '洋', '宝', '卫', '洲', '芭', '久', '棵', '黄', '须', '娃', '唐', '晓', '段', '匪', '夷', '葵']\n",
      "['条', '样', '多', '个', '几', '株', '点', '些', '次', '颗', '号', '指', '百', '部', '每', '合', '件', '分', '卷', '亿', '片', '账', '码', '计', '算', '数', '块', '期', '规', '额', '息', '秒', '品', '录', '度', '节', '质', '伙', '页', '毫', '表', '料', '值', '量', '份', '岁', '率', '材']\n",
      "['仔', '呣', '威', '允', '阳', '肯', '豫', '英', '嚯', '伟', '维', '欧', '轳', '绺', '囫', '囵', '文']\n",
      "['疏', '忧', '郁', '恬', '泪', '歉', '疚', '涣', '叹', '悲', '憾', '悠', '赦', '惜', '谦', '怅', '愧', '忖', '惋', '悔', '愉', '曦', '默', '肃', '渐', '悄', '馁', '璃', '诩', '寂', '怜', '矜', '绪', '慰', '凋', '竺']\n",
      "['迁', '徙', '匀', '惯', '挺', '袭', '畅', '挪', '飞', '欢', '耸', '闪', '跳', '晃', '悦', '熠', '奔', '滑', '跨', '漂', '轰', '驶', '飘', '洁', '峭', '曳', '俏', '焕', '贯']\n",
      "['早', '热', '燃', '起', '增', '占', '满', '涨', '兴', '变', '壮', '崇', '顶', '抬', '调', '加', '倍', '供', '贵', '稍', '养', '伸', '暖', '更', '补', '充', '右', '左', '宽', '攀', '延', '升', '乘']\n",
      "['想', '趁', '出', '收', '得', '通', '还', '过', '要', '发', '跟', '在', '没', '去', '来', '回', '给', '备', '答', '开', '请', '到', '懂', '领', '用', '随', '别', '为', '附', '拜', '找', '被', '问', '做', '求', '接', '按', '等', '留', '取', '待', '致', '帮', '入', '助', '拿', '买', '够', '存', '进', '招', '改', '快', '办', '往', '交', '测', '换', '告', '讨', '送', '信', '劝', '凭', '选', '试', '靠', '遭', '报']\n",
      "['井', '方', '正', '格', '外', '后', '大', '直', '专', '良', '明', '另', '首', '内', '中', '深', '同', '东', '西', '印', '南', '北', '乐', '诺', '独', '昂', '安', '衷', '奋', '广', '伏', '温', '余', '林', '蒙', '丁']\n",
      "['面', '纳', '乏', '喘', '灾', '危', '辘', '荒', '鼻', '渴', '饥', '焰', '努', '噎', '困', '饿', '竭']\n",
      "['星', '座', '站', '处', '端', '势', '础', '态', '堆', '桩', '位', '场', '园', '阵', '穴', '列', '岗', '乡']\n",
      "['里', '力', '刑', '才', '利', '运', '钢', '电', '蕾', '兰', '拉', '液', '雷', '厉', '劲', '萝', '强']\n",
      "['丽', '智', '亮', '蜜', '弥', '玫', '米', '渊', '密', '苹', '模', '麦', '妙', '葡', '萄', '娇', '巧', '聪', '艳', '慕', '烈']\n",
      "['机', '动', '天', '地', '火', '死', '法', '子', '树', '幼', '心', '情', '儿', '花', '水', '爱', '夜', '人', '意', '事', '红', '朴', '民', '世', '朝', '忍', '命', '脸', '服', '君', '主', '军', '宙', '马', '老', '姓', '书', '车', '钟', '神', '言', '思', '酒', '鬼', '静', '脑', '夫', '金', '病', '色', '精', '古', '灯', '美', '月', '性', '步', '光', '市', '物', '名', '景', '歌', '梦', '灵', '男', '孩', '午', '画', '菜', '影', '迹', '佛', '貌', '母', '田', '源', '娘', '颜', '震', '字', '木', '汉', '焦', '染', '案', '油', '香', '战', '纹', '彩', '化', '镜', '兄', '弟', '父', '钱', '郎', '童']\n",
      "['惊', '吓', '奇', '陛', '慌', '喜', '羞', '激', '紊', '异', '猛', '骤', '匆', '讶', '突', '陡', '忡', '峻', '急', '恼', '忿', '愕', '碍', '遐']\n",
      "['囱', '路', '家', '碌', '房', '城', '院', '村', '墙', '柱', '箱', '店', '门', '土', '屋', '幢']\n",
      "['把', '谅', '放', '让', '派', '摆', '散', '投', '装', '弄', '平', '擦', '移', '普', '搁', '溢', '递', '沾', '弹', '修', '售', '贴', '卖', '拼', '趴', '叠', '抛', '逗']\n",
      "['归', '反', '翻', '巡', '倒', '绕', '复', '荡', '驳', '竖', '倾', '折', '旋', '扭', '俯', '顺']\n",
      "['切', '解', '锁', '探', '剖', '堵', '断', '遮', '闭', '裂', '破', '揭', '泄', '裁']\n",
      "['哭', '咳', '嗽', '声', '叫', '哝', '听', '音', '吭', '喊', '呼', '唤', '醒', '响', '念', '唱', '诉', '救', '闹', '铃', '召', '拨', '鸣', '闻', '呛', '嚷']\n",
      "['海', '宇', '岛', '屿', '河', '雄', '壳', '层', '浪', '艘', '船', '岩', '具', '桥']\n",
      "['喷', '造', '浇', '流', '陷', '瓶', '垂', '湿', '锻', '炼', '铅', '桶', '沉', '渗', '凝', '泉', '丸', '吞', '滴', '埋', '瓣', '灌', '植', '潜']\n",
      "['我', '他', '的', '那', '了', '很', '！', '这', '也', '就', '们', '它', '亲', '而', '啦', '对', '她', '你', '…', '吧', '好', '该', '哈', '某', '您', '或', '呀', '噢', '啊', '哟', '甭', '‘', '’', '呗', '哩', '哦', '嗨', '哎', '咯', '昨', '呵', '哇', '喔', '奥', '喽', '咦', '嘛', '嗯', '〇']\n",
      "['茫', '远', '傲', '怯', '却', '惘', '苍', '乱', '漠', '孤', '濒', '障', '垠', '漫', '昏', '疑', '呆']\n",
      "['群', '属', '形', '种', '栏', '系', '式', '粒', '类', '例']\n",
      "['是', '会', '有', '不', '像', '所', '均', '当', '然', '时', '觉', '可', '但', '愿', '能', '应', '因', '如', '权', '难', '先', '必', '确', '虽', '敢', '证', '需', '稳', '况', '似', '倘', '若', '否', '堪', '欲']\n",
      "['烦', '怕', '累', '怪', '害', '惨', '贪', '黑', '旧', '恐', '毒', '恶', '苦', '坏', '厌', '怨', '凶', '耻', '污', '丑', '陋', '笨', '犯']\n",
      "['说', '遍', '张', '话', '治', '写', '作', '讲', '究', '著', '谈', '传', '功', '芳', '描', '编', '篇', '述']\n",
      "['9', '一', '上', '三', '四', '1', '3', '2', '5', '6', '7', '8', '第', '十', '七', '二', '之', '五', '六', '八', '4', '转', '九', '各', 'B']\n",
      "['细', '小', '淡', '晚', '空', '0', '简', '闷', '下', '免', '微', '短', '差', '无', '暗', '少', '慢', '罕', '零', '负', '降', '低', '半', '跌', '轻', '凉', '弱', '底', '冷', '矮']\n",
      "['冒', '显', '见', '认', '识', '看', '审', '视', '瞥', '眼', '趣', '目', '望', '瞧', '恋', '查', '瞬', '观', '寻', '睛', '映', '遇', '秘', '辨', '瞅', '迷', '谜', '察', '伺', '瞪']\n",
      "['掉', '傻', '错', '欠', '落', '遗', '弃', '忘', '缺', '懒', '失', '忽', '逝', '涸', '丢', '残', '败', '亡', '脱', '误', '碎', '亏', '逃', '漏']\n",
      "['律', '程', '语', '句', '诗', '括', '稿', '曲', '集', '镯']\n",
      "['准', '实', '真', '整', '违', '虚', '谎', '仿', '副', '假', '纯', '扮']\n",
      "['感', '责', '决', '定', '始', '单', '宫', '尊', '统', '题', '剧', '记', '判', '商', '摘', '义', '职', '续', '忆', '杂', '序', '标', '跋', '导', '议', '略', '注', '批', '示', '诚', '凡', '喻', '展', '耽', '赏', '论', '饶', '争', '谢', '图', '史', '术', '择', '政', '评', '戏']\n",
      "['措', '骄', '庄', '严', '胡', '休', '浩', '罗', '蔚', '卜', '虞', '豪']\n",
      "['球', '山', '苗', '气', '根', '摩', '管', '笔', '石', '圈', '杯', '轮', '洞', '枪', '珠', '圆', '环', '队', '峰', '壤', '矩', '钉', '菇', '芽', '壶', '板', '砖']\n",
      "['晨', '候', '着', '廷', '仪', '提', '途', '坦', '相', '盏', '脉', '业', '担', '彼', '旦', '耐', '载', '蹈', '架', '顿', '项']\n",
      "['两', '烧', '烟', '柔', '紫', '嘟', '重', '熟', '厚', '乖', '腻', '啰', '忠', '振', '咕', '甜', '双', '绵', '疯', '锈', '玻', '姑', '布', '皱', '丘', '芒', '尖', '嫩', '纤', '胖', '苞', '绿', '裙']\n",
      "['风', '蝴', '颂', '扬', '辉', '瑰', '践', '窗', '拂', '颤', '烁', '褶', '绽', '锋', '娄', '晖', '蓬', '攸']\n"
     ]
    }
   ],
   "source": [
    "for i in range(len(categorized_words)):\n",
    "    print(categorized_words[i])"
   ]
  },
  {
   "cell_type": "code",
   "execution_count": 53,
   "metadata": {},
   "outputs": [],
   "source": [
    "with open('KMeansOfCharacter.pkl', 'wb') as file:\n",
    "    pickle.dump(categorized_words, file)"
   ]
  },
  {
   "cell_type": "code",
   "execution_count": 55,
   "metadata": {},
   "outputs": [],
   "source": [
    "language_understanding_and_expression = [\"说\", \"答\", \"理解\", \"语句\"]\n",
    "emotion_and_social_interaction = [\"快乐\", \"愤怒\", \"他人\", \"我们\"]\n",
    "memory_and_learning = [\"记得\", \"忘记\", \"回忆\"]\n",
    "\n",
    "actions_and_movement = [\"走动\", \"跳\", \"跑\"]\n",
    "sensory_experiences = [\"触觉\", \"嗅觉\", \"视觉\"]\n",
    "\n",
    "spatial_perception = [\"位置\", \"方向\"]\n",
    "social_cognition = [\"自我\", \"我们\", \"他们\"]\n",
    "\n",
    "reward_and_pleasure = [\"奖励\", \"高兴\", \"满足\"]\n",
    "\n",
    "\n",
    "language_understanding_and_expressionEmbedding = [Ollama.getEmbed(ch) for ch in language_understanding_and_expression]\n",
    "emotion_and_social_interactionEmbedding = [Ollama.getEmbed(ch) for ch in emotion_and_social_interaction]\n",
    "memory_and_learningEmbedding = [Ollama.getEmbed(ch) for ch in memory_and_learning]\n",
    "\n",
    "actions_and_movementEmbedding = [Ollama.getEmbed(ch) for ch in actions_and_movement]\n",
    "sensory_experiencesEmbedding = [Ollama.getEmbed(ch) for ch in sensory_experiences]\n",
    "\n",
    "spatial_perceptionEmbedding = [Ollama.getEmbed(ch) for ch in spatial_perception]\n",
    "social_cognitionEmbedding = [Ollama.getEmbed(ch) for ch in social_cognition]\n",
    "\n",
    "reward_and_pleasureEmbedding = [Ollama.getEmbed(ch) for ch in reward_and_pleasure]\n"
   ]
  },
  {
   "cell_type": "code",
   "execution_count": 61,
   "metadata": {},
   "outputs": [],
   "source": [
    "import numpy as np\n",
    "\n",
    "# 对每个类别的 embeddings 列表求平均\n",
    "language_understanding_and_expression_avg = np.mean(language_understanding_and_expressionEmbedding, axis=0)\n",
    "emotion_and_social_interaction_avg = np.mean(emotion_and_social_interactionEmbedding, axis=0)\n",
    "memory_and_learning_avg = np.mean(memory_and_learningEmbedding, axis=0)\n",
    "\n",
    "actions_and_movement_avg = np.mean(actions_and_movementEmbedding, axis=0)\n",
    "sensory_experiences_avg = np.mean(sensory_experiencesEmbedding, axis=0)\n",
    "\n",
    "spatial_perception_avg = np.mean(spatial_perceptionEmbedding, axis=0)\n",
    "social_cognition_avg = np.mean(social_cognitionEmbedding, axis=0)\n",
    "\n",
    "reward_and_pleasure_avg = np.mean(reward_and_pleasureEmbedding, axis=0)\n",
    "\n",
    "\n"
   ]
  },
  {
   "cell_type": "code",
   "execution_count": 63,
   "metadata": {},
   "outputs": [],
   "source": [
    "from sklearn.cluster import KMeans\n",
    "import numpy as np\n",
    "\n",
    "# 将每个类别的平均 embedding 向量汇总为一个列表\n",
    "category_centroids = np.array([\n",
    "    language_understanding_and_expression_avg,\n",
    "    emotion_and_social_interaction_avg,\n",
    "    memory_and_learning_avg,\n",
    "    actions_and_movement_avg,\n",
    "    sensory_experiences_avg,\n",
    "    spatial_perception_avg,\n",
    "    social_cognition_avg,\n",
    "    reward_and_pleasure_avg\n",
    "])\n",
    "\n",
    "# 假设 allCharacterEmbedding_unique 是包含所有数据点的 embedding 向量\n",
    "# 使用 KMeans 进行聚类，设置 n_clusters 为类别数\n",
    "kmeans = KMeans(n_clusters=8, init=category_centroids, n_init=1)  # 8 是类别数\n",
    "kmeans.fit(allCharacterEmbedding_unique)\n",
    "\n",
    "# 获取聚类标签\n",
    "labels = kmeans.labels_\n"
   ]
  },
  {
   "cell_type": "code",
   "execution_count": 65,
   "metadata": {},
   "outputs": [
    {
     "name": "stdout",
     "output_type": "stream",
     "text": [
      "['想', '是', '趁', '迁', '会', '出', '把', '收', '得', '有', '通', '还', '不', '过', '像', '说', '准', '照', '要', '发', '跟', '没', '去', '造', '来', '回', '亲', '给', '备', '见', '可', '答', '起', '感', '开', '请', '愿', '能', '到', '吃', '责', '举', '着', '知', '懂', '领', '放', '用', '并', '好', '认', '应', '受', '看', '让', '随', '附', '行', '拜', '访', '找', '增', '住', '单', '占', '满', '玩', '涨', '话', '变', '生', '问', '治', '提', '做', '指', '归', '使', '连', '求', '写', '执', '接', '先', '建', '合', '投', '记', '按', '等', '分', '审', '判', '必', '留', '听', '取', '免', '装', '待', '顶', '致', '拍', '调', '学', '帮', '忙', '微', '入', '喝', '助', '完', '解', '作', '聊', '账', '逛', '无', '拿', '讲', '确', '码', '买', '够', '算', '带', '摘', '存', '进', '结', '招', '呗', '额', '息', '改', '快', '瞧', '办', '往', '续', '关', '交', '险', '测', '查', '复', '供', '证', '换', '插', '抵', '响', '念', '需', '持', '稍', '观', '印', '搞', '序', '俩', '寻', '标', '涉', '男', '递', '养', '谈', '双', '告', '诉', '修', '更', '补', '导', '讨', '仿', '副', '伴', '议', '联', '充', '辨', '注', '购', '售', '瞅', '除', '费', '送', '似', '批', '贴', '卖', '示', '传', '保', '信', '劝', '否', '凭', '赏', '尽', '谢', '含', '选', '升', '伺', '搭', '图', '择', '试', '乘', '靠', '评', '编', '报', '挣', '读', '犯']\n",
      "['野', '井', '仔', '方', '正', '法', '于', '故', '王', '刚', '包', '苗', '候', '觉', '原', '般', '容', '毛', '白', '张', '朴', '庄', '臣', '民', '道', '世', '常', '朝', '华', '宫', '廷', '令', '高', '权', '威', '君', '达', '番', '将', '允', '许', '马', '纪', '百', '阳', '肯', '任', '司', '钟', '犹', '豫', '程', '荣', '巴', '谦', '逊', '扬', '承', '俊', '登', '富', '坦', '商', '夫', '平', '苍', '胡', '何', '申', '古', '啰', '帕', '休', '忠', '朋', '顾', '洋', '周', '雄', '伟', '宝', '卫', '御', '九', '洲', '维', '浩', '芭', '伯', '罗', '撒', '跋', '曾', '泛', '诺', '公', '黄', '昂', '戴', '况', '渊', '清', '玻', '彼', '麦', '田', '旦', '源', '越', '姑', '葡', '颜', '诩', '雷', '娃', '丸', '唐', '丘', '芒', '藏', '贝', '凡', '辛', '峰', '锋', '堂', '汉', '喻', '卜', '延', '娄', '伏', '努', '焦', '段', '温', '余', '索', '饶', '松', '堪', '丛', '虞', '蓬', '楚', '顿', '芳', '森', '林', '释', '史', '桑', '师', '项', '攸', '蒙', '肖', '匪', '夷', '豪', '丁', '文', '介', '绍', '钱', '竺', '郎', '童', '且']\n",
      "['死', '缓', '烦', '掉', '忧', '哭', '傻', '惊', '茫', '淡', '错', '晚', '空', '远', '怕', '别', '闷', '被', '累', '欠', '违', '禁', '止', '歉', '疚', '吓', '怯', '怪', '散', '叹', '落', '遗', '弃', '难', '悲', '拒', '反', '忘', '憾', '腻', '慌', '耗', '妨', '离', '虚', '短', '却', '怅', '惘', '羞', '愧', '灭', '闲', '罢', '害', '差', '缺', '乏', '甭', '乱', '暗', '少', '熄', '惨', '懒', '慢', '惋', '漠', '失', '谎', '贪', '杂', '忽', '逝', '罕', '涸', '消', '危', '丢', '孤', '零', '悔', '黑', '紊', '退', '沉', '旧', '痛', '负', '降', '默', '异', '荒', '恐', '残', '败', '断', '驳', '停', '毒', '低', '跌', '亡', '凉', '恶', '弱', '疯', '苦', '坏', '脱', '馁', '锈', '厌', '讶', '误', '假', '障', '怨', '颤', '凶', '饥', '寂', '迷', '碎', '谜', '耻', '忡', '裂', '破', '昏', '卸', '恼', '忿', '愕', '污', '丑', '陋', '笨', '碍', '凋', '疑', '冷', '亏', '逃', '泄', '困', '遭', '饿', '呆', '漏', '竭', '矮']\n",
      "['徙', '走', '拾', '燃', '喷', '囱', '冒', '拔', '惯', '切', '浇', '遍', '嗽', '紧', '刺', '磨', '蹭', '干', '穿', '镶', '坐', '叫', '袭', '打', '嘟', '哝', '挪', '摆', '赶', '抢', '拥', '翻', '巡', '瞥', '刻', '吭', '喊', '呼', '抬', '耸', '陷', '垂', '碌', '搅', '弄', '湿', '锻', '炼', '闪', '钻', '倒', '围', '脖', '抽', '屉', '锁', '唤', '擦', '守', '绕', '挤', '喘', '削', '移', '追', '振', '荡', '跳', '挖', '辘', '吊', '咕', '吹', '唱', '搁', '晃', '吸', '溢', '践', '掏', '剖', '揪', '堵', '傍', '悬', '握', '竖', '伸', '奔', '骤', '渗', '缝', '抱', '沾', '搂', '弹', '击', '滑', '救', '咯', '闹', '铃', '铛', '担', '咬', '跨', '匆', '猜', '漂', '捉', '召', '拂', '折', '遮', '扳', '拨', '轰', '驶', '夺', '吞', '滴', '旋', '蹈', '旁', '褶', '皱', '突', '埋', '捧', '闭', '飘', '挨', '踏', '圆', '扭', '碰', '攀', '陡', '尖', '拼', '趴', '灌', '惹', '叠', '撑', '梳', '耽', '捅', '抛', '潜', '急', '揭', '拧', '钉', '冲', '锤', '敲', '俯', '摇', '曳', '争', '噎', '扮', '挑', '呛', '背', '描', '嚼', '躺', '揉', '瞪', '胁', '拆', '脆', '逗', '贯', '拴', '裁', '套', '嚷']\n",
      "['鸟', '动', '身', '星', '球', '活', '火', '山', '热', '便', '烧', '烟', '麻', '缘', '猴', '树', '幼', '心', '情', '花', '水', '罩', '咳', '口', '声', '爱', '边', '风', '夜', '气', '虫', '兽', '蝴', '蝶', '根', '爪', '人', '流', '泪', '红', '鼬', '皮', '袍', '界', '礼', '路', '睡', '命', '脸', '服', '军', '海', '翼', '手', '力', '果', '椅', '胆', '老', '姓', '熟', '书', '视', '车', '眼', '音', '刑', '神', '旅', '途', '言', '帽', '家', '教', '掌', '摩', '管', '肩', '酒', '鬼', '瓶', '伤', '脑', '头', '跑', '龟', '笔', '病', '蝇', '蜜', '蜂', '色', '望', '石', '岛', '营', '巾', '银', '纸', '诗', '舌', '灯', '角', '圈', '月', '性', '步', '光', '运', '笑', '恋', '探', '河', '脉', '沙', '灾', '铅', '钢', '歌', '蕾', '舞', '兰', '轮', '洞', '村', '梦', '绳', '耳', '嘴', '睛', '臂', '孩', '乐', '羊', '画', '衣', '菜', '狐', '狸', '蟒', '蛇', '遇', '墙', '腿', '影', '足', '迹', '米', '液', '脚', '枪', '柱', '雪', '线', '绵', '泉', '窗', '佛', '躯', '踝', '貌', '猎', '母', '鸡', '浪', '草', '娘', '客', '右', '左', '鼻', '布', '渴', '漫', '唇', '丝', '焰', '护', '字', '环', '门', '船', '镯', '驼', '膝', '凳', '象', '岩', '木', '筋', '枝', '萝', '土', '壤', '蔓', '洗', '染', '螺', '饮', '油', '闻', '香', '蘑', '菇', '战', '胖', '芽', '苞', '欲', '绿', '萼', '裙', '纹', '壶', '虎', '肚', '涯', '桥', '屋', '镜', '游', '戏', '兄', '父', '砖', '葵', '鸽']\n",
      "['群', '机', '条', '地', '座', '餐', '所', '样', '实', '个', '株', '面', '点', '盖', '居', '站', '处', '识', '经', '定', '颗', '号', '事', '端', '派', '整', '仪', '重', '制', '理', '统', '题', '势', '律', '部', '剧', '立', '基', '础', '件', '历', '概', '态', '语', '膀', '句', '间', '桌', '堆', '袋', '卷', '工', '片', '目', '才', '属', '屿', '计', '数', '块', '相', '期', '盏', '房', '规', '秒', '职', '桩', '倍', '著', '位', '城', '市', '业', '品', '杯', '物', '支', '录', '形', '名', '括', '电', '幅', '院', '场', '幕', '度', '种', '桶', '栏', '节', '质', '园', '稿', '棵', '伙', '阵', '穴', '箱', '曲', '壳', '层', '体', '系', '底', '页', '略', '模', '店', '式', '载', '列', '粒', '省', '表', '盘', '宅', '集', '宽', '类', '艘', '岗', '瓣', '队', '料', '展', '束', '矩', '架', '例', '值', '功', '乡', '论', '案', '量', '份', '具', '岁', '化', '术', '政', '械', '匹', '板', '际', '篇', '弟', '幢', '率', '述', '盒', '材']\n",
      "['9', '我', '他', '一', '的', '那', '天', '早', '了', '上', '两', '很', '谁', '呢', '！', '以', '这', '也', '就', '当', '然', '在', '们', '太', '小', '它', '成', '么', '多', '由', '子', '长', '几', '再', '些', '儿', '都', '格', '外', '而', '最', '后', '次', '时', '只', '啦', '对', '她', '又', '但', '前', '你', '什', '和', '…', '吧', '新', '既', '该', '三', '已', '至', '本', '四', '因', '为', '意', '自', '己', '如', '此', '1', '0', '近', '3', '2', '5', '6', '7', '8', '第', '国', '哈', '大', '纳', '从', '怎', '非', '某', '下', '里', '年', '呣', '其', '主', '吗', '向', '您', '明', '全', '仅', '十', '七', '二', '甚', '日', '另', '或', '者', '每', '首', '之', '则', '今', '呀', '噢', '比', '哪', '啊', '内', '中', '五', '英', '哟', '同', '加', '六', '八', '嚯', '共', '亿', '万', '金', '东', '西', '‘', '’', '—', '现', '虽', '利', '总', '4', '美', '转', '哩', '哦', '嗨', '即', '依', '普', '约', '澳', '亚', '俄', '斯', '欧', '南', '北', '拉', '轳', '午', '初', '哎', '半', '昨', '呵', '仍', '安', '哇', '毫', '各', '喔', '奥', '绺', '倘', '若', '喽', '咦', '乎', '嘛', '囫', '囵', '尔', '嗯', '及', 'B', '〇', '据']\n",
      "['晨', '细', '疏', '均', '匀', '郁', '习', '显', '终', '谅', '幸', '福', '措', '恬', '柔', '易', '鲜', '朵', '挺', '真', '决', '骄', '傲', '始', '紫', '简', '严', '丽', '忍', '直', '兴', '尊', '专', '善', '良', '畅', '极', '奇', '陛', '宇', '宙', '涣', '壮', '飞', '厚', '乖', '智', '悠', '赦', '喜', '欢', '崇', '趣', '惜', '思', '颂', '深', '静', '千', '亮', '究', '精', '忖', '义', '醒', '敬', '友', '继', '敢', '眷', '忆', '激', '瞬', '贵', '永', '恒', '景', '蔚', '唯', '久', '稳', '愉', '悦', '灵', '圣', '诞', '弥', '甜', '辉', '映', '熠', '玫', '瑰', '曦', '泽', '独', '偶', '驯', '猛', '轻', '怀', '凝', '濒', '临', '希', '肃', '渐', '暖', '悄', '倾', '璃', '珠', '秘', '密', '苹', '衷', '妙', '耐', '奋', '萄', '须', '鸣', '震', '垠', '烁', '厉', '娇', '绽', '贞', '晓', '诚', '广', '劲', '纯', '洁', '怜', '齐', '峭', '盛', '巧', '聪', '植', '舒', '嫩', '峻', '矜', '察', '绪', '夕', '晖', '粹', '纤', '慰', '顺', '艳', '俏', '慕', '享', '彩', '杰', '煌', '强', '烈', '焕', '遐']\n"
     ]
    }
   ],
   "source": [
    "categorized_words = {}\n",
    "for idx, label in enumerate(labels):\n",
    "    categorized_words.setdefault(label, []).append(unique_characters[idx])\n",
    "for i in range(len(categorized_words)):\n",
    "    print(categorized_words[i])"
   ]
  },
  {
   "cell_type": "code",
   "execution_count": 66,
   "metadata": {},
   "outputs": [],
   "source": [
    "with open('KMeansOfCharacterWROI.pkl', 'wb') as file:\n",
    "    pickle.dump(categorized_words, file)"
   ]
  },
  {
   "cell_type": "markdown",
   "metadata": {},
   "source": [
    "# load data"
   ]
  },
  {
   "cell_type": "code",
   "execution_count": 67,
   "metadata": {},
   "outputs": [],
   "source": [
    "with open('KMeansOfCharacterWROI.pkl', 'rb') as file:\n",
    "    categorized_words_ROI = pickle.load(file)\n",
    "with open('KMeansOfCharacter.pkl', 'rb') as file:\n",
    "    categorized_words = pickle.load(file)\n"
   ]
  },
  {
   "cell_type": "code",
   "execution_count": 72,
   "metadata": {},
   "outputs": [
    {
     "data": {
      "text/plain": [
       "50"
      ]
     },
     "execution_count": 72,
     "metadata": {},
     "output_type": "execute_result"
    }
   ],
   "source": [
    "len(categorized_words)"
   ]
  },
  {
   "cell_type": "code",
   "execution_count": 73,
   "metadata": {},
   "outputs": [
    {
     "data": {
      "text/plain": [
       "['拾',\n",
       " '照',\n",
       " '拔',\n",
       " '紧',\n",
       " '磨',\n",
       " '蹭',\n",
       " '打',\n",
       " '赶',\n",
       " '抢',\n",
       " '拥',\n",
       " '拍',\n",
       " '搅',\n",
       " '钻',\n",
       " '抽',\n",
       " '挤',\n",
       " '追',\n",
       " '搞',\n",
       " '挖',\n",
       " '吹',\n",
       " '吸',\n",
       " '掏',\n",
       " '揪',\n",
       " '握',\n",
       " '抱',\n",
       " '搂',\n",
       " '击',\n",
       " '咬',\n",
       " '猜',\n",
       " '捉',\n",
       " '扳',\n",
       " '夺',\n",
       " '捧',\n",
       " '挨',\n",
       " '碰',\n",
       " '惹',\n",
       " '撑',\n",
       " '梳',\n",
       " '捅',\n",
       " '拧',\n",
       " '冲',\n",
       " '锤',\n",
       " '敲',\n",
       " '摇',\n",
       " '挑',\n",
       " '嚼',\n",
       " '揉',\n",
       " '挣']"
      ]
     },
     "execution_count": 73,
     "metadata": {},
     "output_type": "execute_result"
    }
   ],
   "source": [
    "categorized_words[0]"
   ]
  }
 ],
 "metadata": {
  "kernelspec": {
   "display_name": "MNE-EEG",
   "language": "python",
   "name": "python3"
  },
  "language_info": {
   "codemirror_mode": {
    "name": "ipython",
    "version": 3
   },
   "file_extension": ".py",
   "mimetype": "text/x-python",
   "name": "python",
   "nbconvert_exporter": "python",
   "pygments_lexer": "ipython3",
   "version": "3.11.10"
  }
 },
 "nbformat": 4,
 "nbformat_minor": 2
}
