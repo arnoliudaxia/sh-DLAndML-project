{
 "cells": [
  {
   "cell_type": "markdown",
   "metadata": {},
   "source": [
    "## 尝试FFT"
   ]
  },
  {
   "cell_type": "code",
   "execution_count": 9,
   "metadata": {},
   "outputs": [],
   "source": [
    "import os\n",
    "import pickle\n",
    "import numpy as np\n",
    "from scipy.fft import rfft, rfftfreq\n",
    "\n",
    "\n",
    "root_dir='/home/arno/Projects/EEGDecodingTest/My/Data/LittlePrince'\n",
    "for sub_dir in os.listdir(root_dir):\n",
    "    sub_dir_path = os.path.join(root_dir, sub_dir)\n",
    "    if os.path.isdir(sub_dir_path):\n",
    "        for file_name in os.listdir(sub_dir_path):\n",
    "            if file_name.endswith('.pkl'):\n",
    "                file_path = os.path.join(sub_dir_path, file_name)\n",
    "                with open(file_path, 'rb') as file:\n",
    "                    loaded_data = pickle.load(file)\n",
    "                    cut_eeg_data, _, _ = loaded_data\n",
    "                    for eeg_data in cut_eeg_data:\n",
    "                        # 每一段文本\n",
    "                        freq_data = []\n",
    "                        for channel in eeg_data:\n",
    "                            fft_values = rfft(channel)\n",
    "                            freqs = rfftfreq(len(channel), d=1/256)\n",
    "                            # Extract the target frequency range\n",
    "                            target_indices = (freqs >= 1) & (freqs <= 100)\n",
    "                            freq_data.append(np.abs(fft_values[target_indices]))\n",
    "                        \n",
    "                        freq_data=np.array(freq_data)\n",
    "                        print(freq_data.shape)\n",
    "                    break"
   ]
  },
  {
   "cell_type": "code",
   "execution_count": 15,
   "metadata": {},
   "outputs": [],
   "source": [
    "\n",
    "\n",
    "# eeg_data = np. .tensor(eeg_data, dtype=torch.float32)  # Shape: (128, variable_length)\n",
    "\n",
    "# Apply FFT to get the frequency domain representation\n",
    "freq_data = []\n",
    "for channel in eeg_data:\n",
    "    fft_values = rfft(channel)\n",
    "    freqs = rfftfreq(len(channel), d=1/256)\n",
    "    # Extract the target frequency range\n",
    "    target_indices = (freqs >= 1) & (freqs <= 100)\n",
    "    freq_data.append(np.abs(fft_values[target_indices]))\n",
    "\n",
    "# freq_data = torch.stack(freq_data)  # Shape: (128, num_frequencies_in_range)\n",
    "# return freq_data"
   ]
  },
  {
   "cell_type": "code",
   "execution_count": 17,
   "metadata": {},
   "outputs": [
    {
     "data": {
      "text/plain": [
       "(128, 36)"
      ]
     },
     "execution_count": 17,
     "metadata": {},
     "output_type": "execute_result"
    }
   ],
   "source": [
    "np.array(freq_data).shape"
   ]
  }
 ],
 "metadata": {
  "kernelspec": {
   "display_name": "MNE-EEG",
   "language": "python",
   "name": "python3"
  },
  "language_info": {
   "codemirror_mode": {
    "name": "ipython",
    "version": 3
   },
   "file_extension": ".py",
   "mimetype": "text/x-python",
   "name": "python",
   "nbconvert_exporter": "python",
   "pygments_lexer": "ipython3",
   "version": "3.11.10"
  }
 },
 "nbformat": 4,
 "nbformat_minor": 2
}
